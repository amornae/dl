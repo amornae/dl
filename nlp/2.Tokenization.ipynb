{
  "nbformat": 4,
  "nbformat_minor": 0,
  "metadata": {
    "colab": {
      "provenance": []
    },
    "kernelspec": {
      "name": "python3",
      "display_name": "Python 3"
    },
    "language_info": {
      "name": "python"
    },
    "accelerator": "GPU",
    "gpuClass": "standard",
    "widgets": {
      "application/vnd.jupyter.widget-state+json": {
        "45333f877ead4638b0bfa97608fd9637": {
          "model_module": "@jupyter-widgets/controls",
          "model_name": "HBoxModel",
          "model_module_version": "1.5.0",
          "state": {
            "_dom_classes": [],
            "_model_module": "@jupyter-widgets/controls",
            "_model_module_version": "1.5.0",
            "_model_name": "HBoxModel",
            "_view_count": null,
            "_view_module": "@jupyter-widgets/controls",
            "_view_module_version": "1.5.0",
            "_view_name": "HBoxView",
            "box_style": "",
            "children": [
              "IPY_MODEL_a7ef910ef27e4bf086ca7c1b897679f8",
              "IPY_MODEL_ff513fef7a2747878fb64d773ecc58b9",
              "IPY_MODEL_451fd9847d5e47b5aec3930d5b2d7d50"
            ],
            "layout": "IPY_MODEL_7515ddc180bb487285942f7c2f6fa369"
          }
        },
        "a7ef910ef27e4bf086ca7c1b897679f8": {
          "model_module": "@jupyter-widgets/controls",
          "model_name": "HTMLModel",
          "model_module_version": "1.5.0",
          "state": {
            "_dom_classes": [],
            "_model_module": "@jupyter-widgets/controls",
            "_model_module_version": "1.5.0",
            "_model_name": "HTMLModel",
            "_view_count": null,
            "_view_module": "@jupyter-widgets/controls",
            "_view_module_version": "1.5.0",
            "_view_name": "HTMLView",
            "description": "",
            "description_tooltip": null,
            "layout": "IPY_MODEL_701818403a8b40e1bdf981ef2ee0b94f",
            "placeholder": "​",
            "style": "IPY_MODEL_f4295913a14f4dd0a44ad7d535674a41",
            "value": "tokenizer_config.json: 100%"
          }
        },
        "ff513fef7a2747878fb64d773ecc58b9": {
          "model_module": "@jupyter-widgets/controls",
          "model_name": "FloatProgressModel",
          "model_module_version": "1.5.0",
          "state": {
            "_dom_classes": [],
            "_model_module": "@jupyter-widgets/controls",
            "_model_module_version": "1.5.0",
            "_model_name": "FloatProgressModel",
            "_view_count": null,
            "_view_module": "@jupyter-widgets/controls",
            "_view_module_version": "1.5.0",
            "_view_name": "ProgressView",
            "bar_style": "success",
            "description": "",
            "description_tooltip": null,
            "layout": "IPY_MODEL_02e9dbbca354411fb4a7313c1dceb78c",
            "max": 49,
            "min": 0,
            "orientation": "horizontal",
            "style": "IPY_MODEL_8396cb47e7714062830a4448e5815d6b",
            "value": 49
          }
        },
        "451fd9847d5e47b5aec3930d5b2d7d50": {
          "model_module": "@jupyter-widgets/controls",
          "model_name": "HTMLModel",
          "model_module_version": "1.5.0",
          "state": {
            "_dom_classes": [],
            "_model_module": "@jupyter-widgets/controls",
            "_model_module_version": "1.5.0",
            "_model_name": "HTMLModel",
            "_view_count": null,
            "_view_module": "@jupyter-widgets/controls",
            "_view_module_version": "1.5.0",
            "_view_name": "HTMLView",
            "description": "",
            "description_tooltip": null,
            "layout": "IPY_MODEL_0da56f5526ec4fabaf2c57841b4dbc8c",
            "placeholder": "​",
            "style": "IPY_MODEL_35578ab0c2fb429f8d79d7beda9a9412",
            "value": " 49.0/49.0 [00:00&lt;00:00, 3.35kB/s]"
          }
        },
        "7515ddc180bb487285942f7c2f6fa369": {
          "model_module": "@jupyter-widgets/base",
          "model_name": "LayoutModel",
          "model_module_version": "1.2.0",
          "state": {
            "_model_module": "@jupyter-widgets/base",
            "_model_module_version": "1.2.0",
            "_model_name": "LayoutModel",
            "_view_count": null,
            "_view_module": "@jupyter-widgets/base",
            "_view_module_version": "1.2.0",
            "_view_name": "LayoutView",
            "align_content": null,
            "align_items": null,
            "align_self": null,
            "border": null,
            "bottom": null,
            "display": null,
            "flex": null,
            "flex_flow": null,
            "grid_area": null,
            "grid_auto_columns": null,
            "grid_auto_flow": null,
            "grid_auto_rows": null,
            "grid_column": null,
            "grid_gap": null,
            "grid_row": null,
            "grid_template_areas": null,
            "grid_template_columns": null,
            "grid_template_rows": null,
            "height": null,
            "justify_content": null,
            "justify_items": null,
            "left": null,
            "margin": null,
            "max_height": null,
            "max_width": null,
            "min_height": null,
            "min_width": null,
            "object_fit": null,
            "object_position": null,
            "order": null,
            "overflow": null,
            "overflow_x": null,
            "overflow_y": null,
            "padding": null,
            "right": null,
            "top": null,
            "visibility": null,
            "width": null
          }
        },
        "701818403a8b40e1bdf981ef2ee0b94f": {
          "model_module": "@jupyter-widgets/base",
          "model_name": "LayoutModel",
          "model_module_version": "1.2.0",
          "state": {
            "_model_module": "@jupyter-widgets/base",
            "_model_module_version": "1.2.0",
            "_model_name": "LayoutModel",
            "_view_count": null,
            "_view_module": "@jupyter-widgets/base",
            "_view_module_version": "1.2.0",
            "_view_name": "LayoutView",
            "align_content": null,
            "align_items": null,
            "align_self": null,
            "border": null,
            "bottom": null,
            "display": null,
            "flex": null,
            "flex_flow": null,
            "grid_area": null,
            "grid_auto_columns": null,
            "grid_auto_flow": null,
            "grid_auto_rows": null,
            "grid_column": null,
            "grid_gap": null,
            "grid_row": null,
            "grid_template_areas": null,
            "grid_template_columns": null,
            "grid_template_rows": null,
            "height": null,
            "justify_content": null,
            "justify_items": null,
            "left": null,
            "margin": null,
            "max_height": null,
            "max_width": null,
            "min_height": null,
            "min_width": null,
            "object_fit": null,
            "object_position": null,
            "order": null,
            "overflow": null,
            "overflow_x": null,
            "overflow_y": null,
            "padding": null,
            "right": null,
            "top": null,
            "visibility": null,
            "width": null
          }
        },
        "f4295913a14f4dd0a44ad7d535674a41": {
          "model_module": "@jupyter-widgets/controls",
          "model_name": "DescriptionStyleModel",
          "model_module_version": "1.5.0",
          "state": {
            "_model_module": "@jupyter-widgets/controls",
            "_model_module_version": "1.5.0",
            "_model_name": "DescriptionStyleModel",
            "_view_count": null,
            "_view_module": "@jupyter-widgets/base",
            "_view_module_version": "1.2.0",
            "_view_name": "StyleView",
            "description_width": ""
          }
        },
        "02e9dbbca354411fb4a7313c1dceb78c": {
          "model_module": "@jupyter-widgets/base",
          "model_name": "LayoutModel",
          "model_module_version": "1.2.0",
          "state": {
            "_model_module": "@jupyter-widgets/base",
            "_model_module_version": "1.2.0",
            "_model_name": "LayoutModel",
            "_view_count": null,
            "_view_module": "@jupyter-widgets/base",
            "_view_module_version": "1.2.0",
            "_view_name": "LayoutView",
            "align_content": null,
            "align_items": null,
            "align_self": null,
            "border": null,
            "bottom": null,
            "display": null,
            "flex": null,
            "flex_flow": null,
            "grid_area": null,
            "grid_auto_columns": null,
            "grid_auto_flow": null,
            "grid_auto_rows": null,
            "grid_column": null,
            "grid_gap": null,
            "grid_row": null,
            "grid_template_areas": null,
            "grid_template_columns": null,
            "grid_template_rows": null,
            "height": null,
            "justify_content": null,
            "justify_items": null,
            "left": null,
            "margin": null,
            "max_height": null,
            "max_width": null,
            "min_height": null,
            "min_width": null,
            "object_fit": null,
            "object_position": null,
            "order": null,
            "overflow": null,
            "overflow_x": null,
            "overflow_y": null,
            "padding": null,
            "right": null,
            "top": null,
            "visibility": null,
            "width": null
          }
        },
        "8396cb47e7714062830a4448e5815d6b": {
          "model_module": "@jupyter-widgets/controls",
          "model_name": "ProgressStyleModel",
          "model_module_version": "1.5.0",
          "state": {
            "_model_module": "@jupyter-widgets/controls",
            "_model_module_version": "1.5.0",
            "_model_name": "ProgressStyleModel",
            "_view_count": null,
            "_view_module": "@jupyter-widgets/base",
            "_view_module_version": "1.2.0",
            "_view_name": "StyleView",
            "bar_color": null,
            "description_width": ""
          }
        },
        "0da56f5526ec4fabaf2c57841b4dbc8c": {
          "model_module": "@jupyter-widgets/base",
          "model_name": "LayoutModel",
          "model_module_version": "1.2.0",
          "state": {
            "_model_module": "@jupyter-widgets/base",
            "_model_module_version": "1.2.0",
            "_model_name": "LayoutModel",
            "_view_count": null,
            "_view_module": "@jupyter-widgets/base",
            "_view_module_version": "1.2.0",
            "_view_name": "LayoutView",
            "align_content": null,
            "align_items": null,
            "align_self": null,
            "border": null,
            "bottom": null,
            "display": null,
            "flex": null,
            "flex_flow": null,
            "grid_area": null,
            "grid_auto_columns": null,
            "grid_auto_flow": null,
            "grid_auto_rows": null,
            "grid_column": null,
            "grid_gap": null,
            "grid_row": null,
            "grid_template_areas": null,
            "grid_template_columns": null,
            "grid_template_rows": null,
            "height": null,
            "justify_content": null,
            "justify_items": null,
            "left": null,
            "margin": null,
            "max_height": null,
            "max_width": null,
            "min_height": null,
            "min_width": null,
            "object_fit": null,
            "object_position": null,
            "order": null,
            "overflow": null,
            "overflow_x": null,
            "overflow_y": null,
            "padding": null,
            "right": null,
            "top": null,
            "visibility": null,
            "width": null
          }
        },
        "35578ab0c2fb429f8d79d7beda9a9412": {
          "model_module": "@jupyter-widgets/controls",
          "model_name": "DescriptionStyleModel",
          "model_module_version": "1.5.0",
          "state": {
            "_model_module": "@jupyter-widgets/controls",
            "_model_module_version": "1.5.0",
            "_model_name": "DescriptionStyleModel",
            "_view_count": null,
            "_view_module": "@jupyter-widgets/base",
            "_view_module_version": "1.2.0",
            "_view_name": "StyleView",
            "description_width": ""
          }
        },
        "c60cf6e3e858472ea78b867775cad1e9": {
          "model_module": "@jupyter-widgets/controls",
          "model_name": "HBoxModel",
          "model_module_version": "1.5.0",
          "state": {
            "_dom_classes": [],
            "_model_module": "@jupyter-widgets/controls",
            "_model_module_version": "1.5.0",
            "_model_name": "HBoxModel",
            "_view_count": null,
            "_view_module": "@jupyter-widgets/controls",
            "_view_module_version": "1.5.0",
            "_view_name": "HBoxView",
            "box_style": "",
            "children": [
              "IPY_MODEL_14c95578c785458398a38d91bb192bfb",
              "IPY_MODEL_8474e551472b4974a4a7aa8f513b9b77",
              "IPY_MODEL_35beb174bff848a4903df17e86a58da8"
            ],
            "layout": "IPY_MODEL_101dc495db6f4753a3f1de3a6be5c6ca"
          }
        },
        "14c95578c785458398a38d91bb192bfb": {
          "model_module": "@jupyter-widgets/controls",
          "model_name": "HTMLModel",
          "model_module_version": "1.5.0",
          "state": {
            "_dom_classes": [],
            "_model_module": "@jupyter-widgets/controls",
            "_model_module_version": "1.5.0",
            "_model_name": "HTMLModel",
            "_view_count": null,
            "_view_module": "@jupyter-widgets/controls",
            "_view_module_version": "1.5.0",
            "_view_name": "HTMLView",
            "description": "",
            "description_tooltip": null,
            "layout": "IPY_MODEL_af7a4ee4fc374a88b442e4d9659b803b",
            "placeholder": "​",
            "style": "IPY_MODEL_ddc315f6aa2e419bb683c30b117dbdcd",
            "value": "vocab.txt: 100%"
          }
        },
        "8474e551472b4974a4a7aa8f513b9b77": {
          "model_module": "@jupyter-widgets/controls",
          "model_name": "FloatProgressModel",
          "model_module_version": "1.5.0",
          "state": {
            "_dom_classes": [],
            "_model_module": "@jupyter-widgets/controls",
            "_model_module_version": "1.5.0",
            "_model_name": "FloatProgressModel",
            "_view_count": null,
            "_view_module": "@jupyter-widgets/controls",
            "_view_module_version": "1.5.0",
            "_view_name": "ProgressView",
            "bar_style": "success",
            "description": "",
            "description_tooltip": null,
            "layout": "IPY_MODEL_4547f3fc99d84a0894e8ba4bedd50532",
            "max": 213450,
            "min": 0,
            "orientation": "horizontal",
            "style": "IPY_MODEL_8bfce94afb324a038a0a99eb3daa0021",
            "value": 213450
          }
        },
        "35beb174bff848a4903df17e86a58da8": {
          "model_module": "@jupyter-widgets/controls",
          "model_name": "HTMLModel",
          "model_module_version": "1.5.0",
          "state": {
            "_dom_classes": [],
            "_model_module": "@jupyter-widgets/controls",
            "_model_module_version": "1.5.0",
            "_model_name": "HTMLModel",
            "_view_count": null,
            "_view_module": "@jupyter-widgets/controls",
            "_view_module_version": "1.5.0",
            "_view_name": "HTMLView",
            "description": "",
            "description_tooltip": null,
            "layout": "IPY_MODEL_03c8f1acdeff4260a3421771576032a0",
            "placeholder": "​",
            "style": "IPY_MODEL_913d7abc4d434afbac8aa22c4c51e6dd",
            "value": " 213k/213k [00:00&lt;00:00, 4.88MB/s]"
          }
        },
        "101dc495db6f4753a3f1de3a6be5c6ca": {
          "model_module": "@jupyter-widgets/base",
          "model_name": "LayoutModel",
          "model_module_version": "1.2.0",
          "state": {
            "_model_module": "@jupyter-widgets/base",
            "_model_module_version": "1.2.0",
            "_model_name": "LayoutModel",
            "_view_count": null,
            "_view_module": "@jupyter-widgets/base",
            "_view_module_version": "1.2.0",
            "_view_name": "LayoutView",
            "align_content": null,
            "align_items": null,
            "align_self": null,
            "border": null,
            "bottom": null,
            "display": null,
            "flex": null,
            "flex_flow": null,
            "grid_area": null,
            "grid_auto_columns": null,
            "grid_auto_flow": null,
            "grid_auto_rows": null,
            "grid_column": null,
            "grid_gap": null,
            "grid_row": null,
            "grid_template_areas": null,
            "grid_template_columns": null,
            "grid_template_rows": null,
            "height": null,
            "justify_content": null,
            "justify_items": null,
            "left": null,
            "margin": null,
            "max_height": null,
            "max_width": null,
            "min_height": null,
            "min_width": null,
            "object_fit": null,
            "object_position": null,
            "order": null,
            "overflow": null,
            "overflow_x": null,
            "overflow_y": null,
            "padding": null,
            "right": null,
            "top": null,
            "visibility": null,
            "width": null
          }
        },
        "af7a4ee4fc374a88b442e4d9659b803b": {
          "model_module": "@jupyter-widgets/base",
          "model_name": "LayoutModel",
          "model_module_version": "1.2.0",
          "state": {
            "_model_module": "@jupyter-widgets/base",
            "_model_module_version": "1.2.0",
            "_model_name": "LayoutModel",
            "_view_count": null,
            "_view_module": "@jupyter-widgets/base",
            "_view_module_version": "1.2.0",
            "_view_name": "LayoutView",
            "align_content": null,
            "align_items": null,
            "align_self": null,
            "border": null,
            "bottom": null,
            "display": null,
            "flex": null,
            "flex_flow": null,
            "grid_area": null,
            "grid_auto_columns": null,
            "grid_auto_flow": null,
            "grid_auto_rows": null,
            "grid_column": null,
            "grid_gap": null,
            "grid_row": null,
            "grid_template_areas": null,
            "grid_template_columns": null,
            "grid_template_rows": null,
            "height": null,
            "justify_content": null,
            "justify_items": null,
            "left": null,
            "margin": null,
            "max_height": null,
            "max_width": null,
            "min_height": null,
            "min_width": null,
            "object_fit": null,
            "object_position": null,
            "order": null,
            "overflow": null,
            "overflow_x": null,
            "overflow_y": null,
            "padding": null,
            "right": null,
            "top": null,
            "visibility": null,
            "width": null
          }
        },
        "ddc315f6aa2e419bb683c30b117dbdcd": {
          "model_module": "@jupyter-widgets/controls",
          "model_name": "DescriptionStyleModel",
          "model_module_version": "1.5.0",
          "state": {
            "_model_module": "@jupyter-widgets/controls",
            "_model_module_version": "1.5.0",
            "_model_name": "DescriptionStyleModel",
            "_view_count": null,
            "_view_module": "@jupyter-widgets/base",
            "_view_module_version": "1.2.0",
            "_view_name": "StyleView",
            "description_width": ""
          }
        },
        "4547f3fc99d84a0894e8ba4bedd50532": {
          "model_module": "@jupyter-widgets/base",
          "model_name": "LayoutModel",
          "model_module_version": "1.2.0",
          "state": {
            "_model_module": "@jupyter-widgets/base",
            "_model_module_version": "1.2.0",
            "_model_name": "LayoutModel",
            "_view_count": null,
            "_view_module": "@jupyter-widgets/base",
            "_view_module_version": "1.2.0",
            "_view_name": "LayoutView",
            "align_content": null,
            "align_items": null,
            "align_self": null,
            "border": null,
            "bottom": null,
            "display": null,
            "flex": null,
            "flex_flow": null,
            "grid_area": null,
            "grid_auto_columns": null,
            "grid_auto_flow": null,
            "grid_auto_rows": null,
            "grid_column": null,
            "grid_gap": null,
            "grid_row": null,
            "grid_template_areas": null,
            "grid_template_columns": null,
            "grid_template_rows": null,
            "height": null,
            "justify_content": null,
            "justify_items": null,
            "left": null,
            "margin": null,
            "max_height": null,
            "max_width": null,
            "min_height": null,
            "min_width": null,
            "object_fit": null,
            "object_position": null,
            "order": null,
            "overflow": null,
            "overflow_x": null,
            "overflow_y": null,
            "padding": null,
            "right": null,
            "top": null,
            "visibility": null,
            "width": null
          }
        },
        "8bfce94afb324a038a0a99eb3daa0021": {
          "model_module": "@jupyter-widgets/controls",
          "model_name": "ProgressStyleModel",
          "model_module_version": "1.5.0",
          "state": {
            "_model_module": "@jupyter-widgets/controls",
            "_model_module_version": "1.5.0",
            "_model_name": "ProgressStyleModel",
            "_view_count": null,
            "_view_module": "@jupyter-widgets/base",
            "_view_module_version": "1.2.0",
            "_view_name": "StyleView",
            "bar_color": null,
            "description_width": ""
          }
        },
        "03c8f1acdeff4260a3421771576032a0": {
          "model_module": "@jupyter-widgets/base",
          "model_name": "LayoutModel",
          "model_module_version": "1.2.0",
          "state": {
            "_model_module": "@jupyter-widgets/base",
            "_model_module_version": "1.2.0",
            "_model_name": "LayoutModel",
            "_view_count": null,
            "_view_module": "@jupyter-widgets/base",
            "_view_module_version": "1.2.0",
            "_view_name": "LayoutView",
            "align_content": null,
            "align_items": null,
            "align_self": null,
            "border": null,
            "bottom": null,
            "display": null,
            "flex": null,
            "flex_flow": null,
            "grid_area": null,
            "grid_auto_columns": null,
            "grid_auto_flow": null,
            "grid_auto_rows": null,
            "grid_column": null,
            "grid_gap": null,
            "grid_row": null,
            "grid_template_areas": null,
            "grid_template_columns": null,
            "grid_template_rows": null,
            "height": null,
            "justify_content": null,
            "justify_items": null,
            "left": null,
            "margin": null,
            "max_height": null,
            "max_width": null,
            "min_height": null,
            "min_width": null,
            "object_fit": null,
            "object_position": null,
            "order": null,
            "overflow": null,
            "overflow_x": null,
            "overflow_y": null,
            "padding": null,
            "right": null,
            "top": null,
            "visibility": null,
            "width": null
          }
        },
        "913d7abc4d434afbac8aa22c4c51e6dd": {
          "model_module": "@jupyter-widgets/controls",
          "model_name": "DescriptionStyleModel",
          "model_module_version": "1.5.0",
          "state": {
            "_model_module": "@jupyter-widgets/controls",
            "_model_module_version": "1.5.0",
            "_model_name": "DescriptionStyleModel",
            "_view_count": null,
            "_view_module": "@jupyter-widgets/base",
            "_view_module_version": "1.2.0",
            "_view_name": "StyleView",
            "description_width": ""
          }
        },
        "0937b492d8274e5da6e0fae26fc18fe8": {
          "model_module": "@jupyter-widgets/controls",
          "model_name": "HBoxModel",
          "model_module_version": "1.5.0",
          "state": {
            "_dom_classes": [],
            "_model_module": "@jupyter-widgets/controls",
            "_model_module_version": "1.5.0",
            "_model_name": "HBoxModel",
            "_view_count": null,
            "_view_module": "@jupyter-widgets/controls",
            "_view_module_version": "1.5.0",
            "_view_name": "HBoxView",
            "box_style": "",
            "children": [
              "IPY_MODEL_3dce058506d54fec8d51cef1fbad4e34",
              "IPY_MODEL_6d7d5f4861d0498f9f2685201b94600c",
              "IPY_MODEL_4b2c6951a13c4183a7e225965198ea0e"
            ],
            "layout": "IPY_MODEL_a16a82183c7547c1a5eae7abb4578367"
          }
        },
        "3dce058506d54fec8d51cef1fbad4e34": {
          "model_module": "@jupyter-widgets/controls",
          "model_name": "HTMLModel",
          "model_module_version": "1.5.0",
          "state": {
            "_dom_classes": [],
            "_model_module": "@jupyter-widgets/controls",
            "_model_module_version": "1.5.0",
            "_model_name": "HTMLModel",
            "_view_count": null,
            "_view_module": "@jupyter-widgets/controls",
            "_view_module_version": "1.5.0",
            "_view_name": "HTMLView",
            "description": "",
            "description_tooltip": null,
            "layout": "IPY_MODEL_ce93bcb0649a465b8a22c4220a4e9e41",
            "placeholder": "​",
            "style": "IPY_MODEL_c3a44ead02dc4a3c86ee3ba245715a7a",
            "value": "tokenizer.json: 100%"
          }
        },
        "6d7d5f4861d0498f9f2685201b94600c": {
          "model_module": "@jupyter-widgets/controls",
          "model_name": "FloatProgressModel",
          "model_module_version": "1.5.0",
          "state": {
            "_dom_classes": [],
            "_model_module": "@jupyter-widgets/controls",
            "_model_module_version": "1.5.0",
            "_model_name": "FloatProgressModel",
            "_view_count": null,
            "_view_module": "@jupyter-widgets/controls",
            "_view_module_version": "1.5.0",
            "_view_name": "ProgressView",
            "bar_style": "success",
            "description": "",
            "description_tooltip": null,
            "layout": "IPY_MODEL_583c3fdefbfc4f858b5d74370dbba6ba",
            "max": 435797,
            "min": 0,
            "orientation": "horizontal",
            "style": "IPY_MODEL_91af002611c74809a52fe81852f0fd0c",
            "value": 435797
          }
        },
        "4b2c6951a13c4183a7e225965198ea0e": {
          "model_module": "@jupyter-widgets/controls",
          "model_name": "HTMLModel",
          "model_module_version": "1.5.0",
          "state": {
            "_dom_classes": [],
            "_model_module": "@jupyter-widgets/controls",
            "_model_module_version": "1.5.0",
            "_model_name": "HTMLModel",
            "_view_count": null,
            "_view_module": "@jupyter-widgets/controls",
            "_view_module_version": "1.5.0",
            "_view_name": "HTMLView",
            "description": "",
            "description_tooltip": null,
            "layout": "IPY_MODEL_2ba71bafc83e44b2beee02ed1fd510ec",
            "placeholder": "​",
            "style": "IPY_MODEL_3f4d4076990c451d90b044d5f7030bc0",
            "value": " 436k/436k [00:00&lt;00:00, 8.66MB/s]"
          }
        },
        "a16a82183c7547c1a5eae7abb4578367": {
          "model_module": "@jupyter-widgets/base",
          "model_name": "LayoutModel",
          "model_module_version": "1.2.0",
          "state": {
            "_model_module": "@jupyter-widgets/base",
            "_model_module_version": "1.2.0",
            "_model_name": "LayoutModel",
            "_view_count": null,
            "_view_module": "@jupyter-widgets/base",
            "_view_module_version": "1.2.0",
            "_view_name": "LayoutView",
            "align_content": null,
            "align_items": null,
            "align_self": null,
            "border": null,
            "bottom": null,
            "display": null,
            "flex": null,
            "flex_flow": null,
            "grid_area": null,
            "grid_auto_columns": null,
            "grid_auto_flow": null,
            "grid_auto_rows": null,
            "grid_column": null,
            "grid_gap": null,
            "grid_row": null,
            "grid_template_areas": null,
            "grid_template_columns": null,
            "grid_template_rows": null,
            "height": null,
            "justify_content": null,
            "justify_items": null,
            "left": null,
            "margin": null,
            "max_height": null,
            "max_width": null,
            "min_height": null,
            "min_width": null,
            "object_fit": null,
            "object_position": null,
            "order": null,
            "overflow": null,
            "overflow_x": null,
            "overflow_y": null,
            "padding": null,
            "right": null,
            "top": null,
            "visibility": null,
            "width": null
          }
        },
        "ce93bcb0649a465b8a22c4220a4e9e41": {
          "model_module": "@jupyter-widgets/base",
          "model_name": "LayoutModel",
          "model_module_version": "1.2.0",
          "state": {
            "_model_module": "@jupyter-widgets/base",
            "_model_module_version": "1.2.0",
            "_model_name": "LayoutModel",
            "_view_count": null,
            "_view_module": "@jupyter-widgets/base",
            "_view_module_version": "1.2.0",
            "_view_name": "LayoutView",
            "align_content": null,
            "align_items": null,
            "align_self": null,
            "border": null,
            "bottom": null,
            "display": null,
            "flex": null,
            "flex_flow": null,
            "grid_area": null,
            "grid_auto_columns": null,
            "grid_auto_flow": null,
            "grid_auto_rows": null,
            "grid_column": null,
            "grid_gap": null,
            "grid_row": null,
            "grid_template_areas": null,
            "grid_template_columns": null,
            "grid_template_rows": null,
            "height": null,
            "justify_content": null,
            "justify_items": null,
            "left": null,
            "margin": null,
            "max_height": null,
            "max_width": null,
            "min_height": null,
            "min_width": null,
            "object_fit": null,
            "object_position": null,
            "order": null,
            "overflow": null,
            "overflow_x": null,
            "overflow_y": null,
            "padding": null,
            "right": null,
            "top": null,
            "visibility": null,
            "width": null
          }
        },
        "c3a44ead02dc4a3c86ee3ba245715a7a": {
          "model_module": "@jupyter-widgets/controls",
          "model_name": "DescriptionStyleModel",
          "model_module_version": "1.5.0",
          "state": {
            "_model_module": "@jupyter-widgets/controls",
            "_model_module_version": "1.5.0",
            "_model_name": "DescriptionStyleModel",
            "_view_count": null,
            "_view_module": "@jupyter-widgets/base",
            "_view_module_version": "1.2.0",
            "_view_name": "StyleView",
            "description_width": ""
          }
        },
        "583c3fdefbfc4f858b5d74370dbba6ba": {
          "model_module": "@jupyter-widgets/base",
          "model_name": "LayoutModel",
          "model_module_version": "1.2.0",
          "state": {
            "_model_module": "@jupyter-widgets/base",
            "_model_module_version": "1.2.0",
            "_model_name": "LayoutModel",
            "_view_count": null,
            "_view_module": "@jupyter-widgets/base",
            "_view_module_version": "1.2.0",
            "_view_name": "LayoutView",
            "align_content": null,
            "align_items": null,
            "align_self": null,
            "border": null,
            "bottom": null,
            "display": null,
            "flex": null,
            "flex_flow": null,
            "grid_area": null,
            "grid_auto_columns": null,
            "grid_auto_flow": null,
            "grid_auto_rows": null,
            "grid_column": null,
            "grid_gap": null,
            "grid_row": null,
            "grid_template_areas": null,
            "grid_template_columns": null,
            "grid_template_rows": null,
            "height": null,
            "justify_content": null,
            "justify_items": null,
            "left": null,
            "margin": null,
            "max_height": null,
            "max_width": null,
            "min_height": null,
            "min_width": null,
            "object_fit": null,
            "object_position": null,
            "order": null,
            "overflow": null,
            "overflow_x": null,
            "overflow_y": null,
            "padding": null,
            "right": null,
            "top": null,
            "visibility": null,
            "width": null
          }
        },
        "91af002611c74809a52fe81852f0fd0c": {
          "model_module": "@jupyter-widgets/controls",
          "model_name": "ProgressStyleModel",
          "model_module_version": "1.5.0",
          "state": {
            "_model_module": "@jupyter-widgets/controls",
            "_model_module_version": "1.5.0",
            "_model_name": "ProgressStyleModel",
            "_view_count": null,
            "_view_module": "@jupyter-widgets/base",
            "_view_module_version": "1.2.0",
            "_view_name": "StyleView",
            "bar_color": null,
            "description_width": ""
          }
        },
        "2ba71bafc83e44b2beee02ed1fd510ec": {
          "model_module": "@jupyter-widgets/base",
          "model_name": "LayoutModel",
          "model_module_version": "1.2.0",
          "state": {
            "_model_module": "@jupyter-widgets/base",
            "_model_module_version": "1.2.0",
            "_model_name": "LayoutModel",
            "_view_count": null,
            "_view_module": "@jupyter-widgets/base",
            "_view_module_version": "1.2.0",
            "_view_name": "LayoutView",
            "align_content": null,
            "align_items": null,
            "align_self": null,
            "border": null,
            "bottom": null,
            "display": null,
            "flex": null,
            "flex_flow": null,
            "grid_area": null,
            "grid_auto_columns": null,
            "grid_auto_flow": null,
            "grid_auto_rows": null,
            "grid_column": null,
            "grid_gap": null,
            "grid_row": null,
            "grid_template_areas": null,
            "grid_template_columns": null,
            "grid_template_rows": null,
            "height": null,
            "justify_content": null,
            "justify_items": null,
            "left": null,
            "margin": null,
            "max_height": null,
            "max_width": null,
            "min_height": null,
            "min_width": null,
            "object_fit": null,
            "object_position": null,
            "order": null,
            "overflow": null,
            "overflow_x": null,
            "overflow_y": null,
            "padding": null,
            "right": null,
            "top": null,
            "visibility": null,
            "width": null
          }
        },
        "3f4d4076990c451d90b044d5f7030bc0": {
          "model_module": "@jupyter-widgets/controls",
          "model_name": "DescriptionStyleModel",
          "model_module_version": "1.5.0",
          "state": {
            "_model_module": "@jupyter-widgets/controls",
            "_model_module_version": "1.5.0",
            "_model_name": "DescriptionStyleModel",
            "_view_count": null,
            "_view_module": "@jupyter-widgets/base",
            "_view_module_version": "1.2.0",
            "_view_name": "StyleView",
            "description_width": ""
          }
        },
        "14784d5b6dd54a29acddb668682eff3c": {
          "model_module": "@jupyter-widgets/controls",
          "model_name": "HBoxModel",
          "model_module_version": "1.5.0",
          "state": {
            "_dom_classes": [],
            "_model_module": "@jupyter-widgets/controls",
            "_model_module_version": "1.5.0",
            "_model_name": "HBoxModel",
            "_view_count": null,
            "_view_module": "@jupyter-widgets/controls",
            "_view_module_version": "1.5.0",
            "_view_name": "HBoxView",
            "box_style": "",
            "children": [
              "IPY_MODEL_e3dfd24ad8da476c92317e74322c9fab",
              "IPY_MODEL_20c879eacdb94bbd9dc74c99aee30449",
              "IPY_MODEL_12a14d102aea4bd7a24c4152712a8edf"
            ],
            "layout": "IPY_MODEL_e6c6ea5ee7cb47ea892abd0b7ffaf2c1"
          }
        },
        "e3dfd24ad8da476c92317e74322c9fab": {
          "model_module": "@jupyter-widgets/controls",
          "model_name": "HTMLModel",
          "model_module_version": "1.5.0",
          "state": {
            "_dom_classes": [],
            "_model_module": "@jupyter-widgets/controls",
            "_model_module_version": "1.5.0",
            "_model_name": "HTMLModel",
            "_view_count": null,
            "_view_module": "@jupyter-widgets/controls",
            "_view_module_version": "1.5.0",
            "_view_name": "HTMLView",
            "description": "",
            "description_tooltip": null,
            "layout": "IPY_MODEL_2555c1e6a3e1450c801d4e48f4e74d2d",
            "placeholder": "​",
            "style": "IPY_MODEL_b590b12a62a2442e9a3af1c8293bb376",
            "value": "config.json: 100%"
          }
        },
        "20c879eacdb94bbd9dc74c99aee30449": {
          "model_module": "@jupyter-widgets/controls",
          "model_name": "FloatProgressModel",
          "model_module_version": "1.5.0",
          "state": {
            "_dom_classes": [],
            "_model_module": "@jupyter-widgets/controls",
            "_model_module_version": "1.5.0",
            "_model_name": "FloatProgressModel",
            "_view_count": null,
            "_view_module": "@jupyter-widgets/controls",
            "_view_module_version": "1.5.0",
            "_view_name": "ProgressView",
            "bar_style": "success",
            "description": "",
            "description_tooltip": null,
            "layout": "IPY_MODEL_5641cffa6a604bb580e9c6a9e4e89db8",
            "max": 570,
            "min": 0,
            "orientation": "horizontal",
            "style": "IPY_MODEL_91a9aa60a0b34861a91214cd6f56d764",
            "value": 570
          }
        },
        "12a14d102aea4bd7a24c4152712a8edf": {
          "model_module": "@jupyter-widgets/controls",
          "model_name": "HTMLModel",
          "model_module_version": "1.5.0",
          "state": {
            "_dom_classes": [],
            "_model_module": "@jupyter-widgets/controls",
            "_model_module_version": "1.5.0",
            "_model_name": "HTMLModel",
            "_view_count": null,
            "_view_module": "@jupyter-widgets/controls",
            "_view_module_version": "1.5.0",
            "_view_name": "HTMLView",
            "description": "",
            "description_tooltip": null,
            "layout": "IPY_MODEL_df5147ebd51345f4979f827e1f0cba79",
            "placeholder": "​",
            "style": "IPY_MODEL_0e02ebb1c67a4a5a8a316a78e0c0c630",
            "value": " 570/570 [00:00&lt;00:00, 45.2kB/s]"
          }
        },
        "e6c6ea5ee7cb47ea892abd0b7ffaf2c1": {
          "model_module": "@jupyter-widgets/base",
          "model_name": "LayoutModel",
          "model_module_version": "1.2.0",
          "state": {
            "_model_module": "@jupyter-widgets/base",
            "_model_module_version": "1.2.0",
            "_model_name": "LayoutModel",
            "_view_count": null,
            "_view_module": "@jupyter-widgets/base",
            "_view_module_version": "1.2.0",
            "_view_name": "LayoutView",
            "align_content": null,
            "align_items": null,
            "align_self": null,
            "border": null,
            "bottom": null,
            "display": null,
            "flex": null,
            "flex_flow": null,
            "grid_area": null,
            "grid_auto_columns": null,
            "grid_auto_flow": null,
            "grid_auto_rows": null,
            "grid_column": null,
            "grid_gap": null,
            "grid_row": null,
            "grid_template_areas": null,
            "grid_template_columns": null,
            "grid_template_rows": null,
            "height": null,
            "justify_content": null,
            "justify_items": null,
            "left": null,
            "margin": null,
            "max_height": null,
            "max_width": null,
            "min_height": null,
            "min_width": null,
            "object_fit": null,
            "object_position": null,
            "order": null,
            "overflow": null,
            "overflow_x": null,
            "overflow_y": null,
            "padding": null,
            "right": null,
            "top": null,
            "visibility": null,
            "width": null
          }
        },
        "2555c1e6a3e1450c801d4e48f4e74d2d": {
          "model_module": "@jupyter-widgets/base",
          "model_name": "LayoutModel",
          "model_module_version": "1.2.0",
          "state": {
            "_model_module": "@jupyter-widgets/base",
            "_model_module_version": "1.2.0",
            "_model_name": "LayoutModel",
            "_view_count": null,
            "_view_module": "@jupyter-widgets/base",
            "_view_module_version": "1.2.0",
            "_view_name": "LayoutView",
            "align_content": null,
            "align_items": null,
            "align_self": null,
            "border": null,
            "bottom": null,
            "display": null,
            "flex": null,
            "flex_flow": null,
            "grid_area": null,
            "grid_auto_columns": null,
            "grid_auto_flow": null,
            "grid_auto_rows": null,
            "grid_column": null,
            "grid_gap": null,
            "grid_row": null,
            "grid_template_areas": null,
            "grid_template_columns": null,
            "grid_template_rows": null,
            "height": null,
            "justify_content": null,
            "justify_items": null,
            "left": null,
            "margin": null,
            "max_height": null,
            "max_width": null,
            "min_height": null,
            "min_width": null,
            "object_fit": null,
            "object_position": null,
            "order": null,
            "overflow": null,
            "overflow_x": null,
            "overflow_y": null,
            "padding": null,
            "right": null,
            "top": null,
            "visibility": null,
            "width": null
          }
        },
        "b590b12a62a2442e9a3af1c8293bb376": {
          "model_module": "@jupyter-widgets/controls",
          "model_name": "DescriptionStyleModel",
          "model_module_version": "1.5.0",
          "state": {
            "_model_module": "@jupyter-widgets/controls",
            "_model_module_version": "1.5.0",
            "_model_name": "DescriptionStyleModel",
            "_view_count": null,
            "_view_module": "@jupyter-widgets/base",
            "_view_module_version": "1.2.0",
            "_view_name": "StyleView",
            "description_width": ""
          }
        },
        "5641cffa6a604bb580e9c6a9e4e89db8": {
          "model_module": "@jupyter-widgets/base",
          "model_name": "LayoutModel",
          "model_module_version": "1.2.0",
          "state": {
            "_model_module": "@jupyter-widgets/base",
            "_model_module_version": "1.2.0",
            "_model_name": "LayoutModel",
            "_view_count": null,
            "_view_module": "@jupyter-widgets/base",
            "_view_module_version": "1.2.0",
            "_view_name": "LayoutView",
            "align_content": null,
            "align_items": null,
            "align_self": null,
            "border": null,
            "bottom": null,
            "display": null,
            "flex": null,
            "flex_flow": null,
            "grid_area": null,
            "grid_auto_columns": null,
            "grid_auto_flow": null,
            "grid_auto_rows": null,
            "grid_column": null,
            "grid_gap": null,
            "grid_row": null,
            "grid_template_areas": null,
            "grid_template_columns": null,
            "grid_template_rows": null,
            "height": null,
            "justify_content": null,
            "justify_items": null,
            "left": null,
            "margin": null,
            "max_height": null,
            "max_width": null,
            "min_height": null,
            "min_width": null,
            "object_fit": null,
            "object_position": null,
            "order": null,
            "overflow": null,
            "overflow_x": null,
            "overflow_y": null,
            "padding": null,
            "right": null,
            "top": null,
            "visibility": null,
            "width": null
          }
        },
        "91a9aa60a0b34861a91214cd6f56d764": {
          "model_module": "@jupyter-widgets/controls",
          "model_name": "ProgressStyleModel",
          "model_module_version": "1.5.0",
          "state": {
            "_model_module": "@jupyter-widgets/controls",
            "_model_module_version": "1.5.0",
            "_model_name": "ProgressStyleModel",
            "_view_count": null,
            "_view_module": "@jupyter-widgets/base",
            "_view_module_version": "1.2.0",
            "_view_name": "StyleView",
            "bar_color": null,
            "description_width": ""
          }
        },
        "df5147ebd51345f4979f827e1f0cba79": {
          "model_module": "@jupyter-widgets/base",
          "model_name": "LayoutModel",
          "model_module_version": "1.2.0",
          "state": {
            "_model_module": "@jupyter-widgets/base",
            "_model_module_version": "1.2.0",
            "_model_name": "LayoutModel",
            "_view_count": null,
            "_view_module": "@jupyter-widgets/base",
            "_view_module_version": "1.2.0",
            "_view_name": "LayoutView",
            "align_content": null,
            "align_items": null,
            "align_self": null,
            "border": null,
            "bottom": null,
            "display": null,
            "flex": null,
            "flex_flow": null,
            "grid_area": null,
            "grid_auto_columns": null,
            "grid_auto_flow": null,
            "grid_auto_rows": null,
            "grid_column": null,
            "grid_gap": null,
            "grid_row": null,
            "grid_template_areas": null,
            "grid_template_columns": null,
            "grid_template_rows": null,
            "height": null,
            "justify_content": null,
            "justify_items": null,
            "left": null,
            "margin": null,
            "max_height": null,
            "max_width": null,
            "min_height": null,
            "min_width": null,
            "object_fit": null,
            "object_position": null,
            "order": null,
            "overflow": null,
            "overflow_x": null,
            "overflow_y": null,
            "padding": null,
            "right": null,
            "top": null,
            "visibility": null,
            "width": null
          }
        },
        "0e02ebb1c67a4a5a8a316a78e0c0c630": {
          "model_module": "@jupyter-widgets/controls",
          "model_name": "DescriptionStyleModel",
          "model_module_version": "1.5.0",
          "state": {
            "_model_module": "@jupyter-widgets/controls",
            "_model_module_version": "1.5.0",
            "_model_name": "DescriptionStyleModel",
            "_view_count": null,
            "_view_module": "@jupyter-widgets/base",
            "_view_module_version": "1.2.0",
            "_view_name": "StyleView",
            "description_width": ""
          }
        }
      }
    }
  },
  "cells": [
    {
      "cell_type": "markdown",
      "source": [
        "# Tokenization"
      ],
      "metadata": {
        "id": "z2aO2LKcVzKK"
      }
    },
    {
      "cell_type": "markdown",
      "source": [
        "## 학습 목표\n",
        "1. 각 토큰화 기법들을 살펴보고 구현한다.\n",
        "2. Subword tokenization의 필요성을 직접 느껴본다.\n",
        "\n",
        "**Context**\n",
        "1. Character-based tokenization 구현하기\n",
        "2. Word-based tokenization 구현하기\n",
        "3. Subword-based tokenization (BertTokenizer) 사용해보기"
      ],
      "metadata": {
        "id": "bdgsoD2ya4cZ"
      }
    },
    {
      "cell_type": "markdown",
      "source": [
        "##0. 필요한 패키지 및 라이브러리 import 하기"
      ],
      "metadata": {
        "id": "ZkCPRbn8gSj7"
      }
    },
    {
      "cell_type": "code",
      "source": [
        "!pip install datasets"
      ],
      "metadata": {
        "id": "doSECs6J6T6C",
        "colab": {
          "base_uri": "https://localhost:8080/"
        },
        "outputId": "1a683610-9d70-475e-a3e8-83bd61bd6880"
      },
      "execution_count": 5,
      "outputs": [
        {
          "output_type": "stream",
          "name": "stdout",
          "text": [
            "Collecting datasets\n",
            "  Downloading datasets-2.19.1-py3-none-any.whl (542 kB)\n",
            "\u001b[2K     \u001b[90m━━━━━━━━━━━━━━━━━━━━━━━━━━━━━━━━━━━━━━━━\u001b[0m \u001b[32m542.0/542.0 kB\u001b[0m \u001b[31m3.8 MB/s\u001b[0m eta \u001b[36m0:00:00\u001b[0m\n",
            "\u001b[?25hRequirement already satisfied: filelock in /usr/local/lib/python3.10/dist-packages (from datasets) (3.14.0)\n",
            "Requirement already satisfied: numpy>=1.17 in /usr/local/lib/python3.10/dist-packages (from datasets) (1.25.2)\n",
            "Requirement already satisfied: pyarrow>=12.0.0 in /usr/local/lib/python3.10/dist-packages (from datasets) (14.0.2)\n",
            "Requirement already satisfied: pyarrow-hotfix in /usr/local/lib/python3.10/dist-packages (from datasets) (0.6)\n",
            "Collecting dill<0.3.9,>=0.3.0 (from datasets)\n",
            "  Downloading dill-0.3.8-py3-none-any.whl (116 kB)\n",
            "\u001b[2K     \u001b[90m━━━━━━━━━━━━━━━━━━━━━━━━━━━━━━━━━━━━━━━━\u001b[0m \u001b[32m116.3/116.3 kB\u001b[0m \u001b[31m11.9 MB/s\u001b[0m eta \u001b[36m0:00:00\u001b[0m\n",
            "\u001b[?25hRequirement already satisfied: pandas in /usr/local/lib/python3.10/dist-packages (from datasets) (2.0.3)\n",
            "Requirement already satisfied: requests>=2.19.0 in /usr/local/lib/python3.10/dist-packages (from datasets) (2.31.0)\n",
            "Requirement already satisfied: tqdm>=4.62.1 in /usr/local/lib/python3.10/dist-packages (from datasets) (4.66.4)\n",
            "Collecting xxhash (from datasets)\n",
            "  Downloading xxhash-3.4.1-cp310-cp310-manylinux_2_17_x86_64.manylinux2014_x86_64.whl (194 kB)\n",
            "\u001b[2K     \u001b[90m━━━━━━━━━━━━━━━━━━━━━━━━━━━━━━━━━━━━━━━━\u001b[0m \u001b[32m194.1/194.1 kB\u001b[0m \u001b[31m24.1 MB/s\u001b[0m eta \u001b[36m0:00:00\u001b[0m\n",
            "\u001b[?25hCollecting multiprocess (from datasets)\n",
            "  Downloading multiprocess-0.70.16-py310-none-any.whl (134 kB)\n",
            "\u001b[2K     \u001b[90m━━━━━━━━━━━━━━━━━━━━━━━━━━━━━━━━━━━━━━━━\u001b[0m \u001b[32m134.8/134.8 kB\u001b[0m \u001b[31m18.6 MB/s\u001b[0m eta \u001b[36m0:00:00\u001b[0m\n",
            "\u001b[?25hRequirement already satisfied: fsspec[http]<=2024.3.1,>=2023.1.0 in /usr/local/lib/python3.10/dist-packages (from datasets) (2023.6.0)\n",
            "Requirement already satisfied: aiohttp in /usr/local/lib/python3.10/dist-packages (from datasets) (3.9.5)\n",
            "Requirement already satisfied: huggingface-hub>=0.21.2 in /usr/local/lib/python3.10/dist-packages (from datasets) (0.23.1)\n",
            "Requirement already satisfied: packaging in /usr/local/lib/python3.10/dist-packages (from datasets) (24.0)\n",
            "Requirement already satisfied: pyyaml>=5.1 in /usr/local/lib/python3.10/dist-packages (from datasets) (6.0.1)\n",
            "Requirement already satisfied: aiosignal>=1.1.2 in /usr/local/lib/python3.10/dist-packages (from aiohttp->datasets) (1.3.1)\n",
            "Requirement already satisfied: attrs>=17.3.0 in /usr/local/lib/python3.10/dist-packages (from aiohttp->datasets) (23.2.0)\n",
            "Requirement already satisfied: frozenlist>=1.1.1 in /usr/local/lib/python3.10/dist-packages (from aiohttp->datasets) (1.4.1)\n",
            "Requirement already satisfied: multidict<7.0,>=4.5 in /usr/local/lib/python3.10/dist-packages (from aiohttp->datasets) (6.0.5)\n",
            "Requirement already satisfied: yarl<2.0,>=1.0 in /usr/local/lib/python3.10/dist-packages (from aiohttp->datasets) (1.9.4)\n",
            "Requirement already satisfied: async-timeout<5.0,>=4.0 in /usr/local/lib/python3.10/dist-packages (from aiohttp->datasets) (4.0.3)\n",
            "Requirement already satisfied: typing-extensions>=3.7.4.3 in /usr/local/lib/python3.10/dist-packages (from huggingface-hub>=0.21.2->datasets) (4.11.0)\n",
            "Requirement already satisfied: charset-normalizer<4,>=2 in /usr/local/lib/python3.10/dist-packages (from requests>=2.19.0->datasets) (3.3.2)\n",
            "Requirement already satisfied: idna<4,>=2.5 in /usr/local/lib/python3.10/dist-packages (from requests>=2.19.0->datasets) (3.7)\n",
            "Requirement already satisfied: urllib3<3,>=1.21.1 in /usr/local/lib/python3.10/dist-packages (from requests>=2.19.0->datasets) (2.0.7)\n",
            "Requirement already satisfied: certifi>=2017.4.17 in /usr/local/lib/python3.10/dist-packages (from requests>=2.19.0->datasets) (2024.2.2)\n",
            "Requirement already satisfied: python-dateutil>=2.8.2 in /usr/local/lib/python3.10/dist-packages (from pandas->datasets) (2.8.2)\n",
            "Requirement already satisfied: pytz>=2020.1 in /usr/local/lib/python3.10/dist-packages (from pandas->datasets) (2023.4)\n",
            "Requirement already satisfied: tzdata>=2022.1 in /usr/local/lib/python3.10/dist-packages (from pandas->datasets) (2024.1)\n",
            "Requirement already satisfied: six>=1.5 in /usr/local/lib/python3.10/dist-packages (from python-dateutil>=2.8.2->pandas->datasets) (1.16.0)\n",
            "Installing collected packages: xxhash, dill, multiprocess, datasets\n",
            "Successfully installed datasets-2.19.1 dill-0.3.8 multiprocess-0.70.16 xxhash-3.4.1\n"
          ]
        }
      ]
    },
    {
      "cell_type": "code",
      "source": [
        "%matplotlib inline\n",
        "import matplotlib.pyplot as plt\n",
        "plt.style.use('ggplot')\n",
        "\n",
        "import nltk\n",
        "nltk.download('punkt')\n",
        "\n",
        "import torch\n",
        "from torch import nn\n",
        "from torch.utils.data import Dataset, DataLoader\n",
        "from torch.nn.utils.rnn import pack_padded_sequence\n",
        "from datasets import load_dataset\n",
        "\n",
        "from transformers import BertTokenizer\n",
        "\n",
        "from tqdm import tqdm"
      ],
      "metadata": {
        "id": "08OxI2Fu2hFx",
        "colab": {
          "base_uri": "https://localhost:8080/"
        },
        "outputId": "1cdd1b96-8003-4737-d6dc-cd4fbdc5c896"
      },
      "execution_count": 6,
      "outputs": [
        {
          "output_type": "stream",
          "name": "stderr",
          "text": [
            "[nltk_data] Downloading package punkt to /root/nltk_data...\n",
            "[nltk_data]   Package punkt is already up-to-date!\n"
          ]
        }
      ]
    },
    {
      "cell_type": "markdown",
      "source": [
        "##1. Character-based tokenization 구현하기"
      ],
      "metadata": {
        "id": "DYhrzk72gfwX"
      }
    },
    {
      "cell_type": "markdown",
      "source": [
        "```\n",
        "💡 tokenization이란 ❓\n",
        "\n",
        "주어진 입력 데이터를 자연어처리 모델이 인식할 수 있는 단위로 변환해주는 방법이다.\n",
        "\n",
        "가장 기초적인 방법으로는 문자(character) 단위로 쪼개는 것인데,\n",
        "\"I have a meal\" 혹은 \"나는 밥을 먹는다\"라고 하는 문장을 가지고 character tokenization을 하면 다음과 같다.\n",
        "\n",
        "- [\"I\", \"h\", \"a\", \"v\", \"e\", \"a\", \"m\", \"e\", \"a\", \"l\"]\n",
        "- [\"나\", \"는\", \"밥\", \"을\", \"먹\", \"는\", \"다\"]\n",
        "\n",
        "해당 tokenization 기법의 장점은 embedding layer 크기가 작다는 것이다.\n",
        "영어의 경우, 알파벳 26개와 숫자 0~9, 기호 문자 여러 개 정도일 것이다.\n",
        "\n",
        "하지만 위의 장점은 단점이 되기도 하는데,\n",
        "예를 들면 \"bank\"와 \"apple\"은 서로 다른 단어이지만 동일한 \"a\" 임베딩이 사용된다.\n",
        "\n",
        "직접 character tokenization을 구현해서 성능을 살펴보도록 한다.\n",
        "```"
      ],
      "metadata": {
        "id": "_Y_LaSKube6h"
      }
    },
    {
      "cell_type": "markdown",
      "source": [
        "###1-1. 데이터 준비"
      ],
      "metadata": {
        "id": "ADnHfGEFgBY9"
      }
    },
    {
      "cell_type": "markdown",
      "source": [
        "```\n",
        "✨ torchtext 라이브러리에서 제공하는 CoLA 데이터셋을 통해 tokenization 성능을 측정해보고자 한다.\n",
        "\n",
        "CoLA는 문법 감정 데이터셋으로써, 문장이 문법적인지 문법적이지 않은지 분류하는 binary classification task에 활용된다.\n",
        "\n",
        "각 데이터 샘플마다 문장과 해당 라벨이 존재하고,\n",
        "라벨이 0이라면 문법이 틀린 문장이고, 1이라면 문법이 맞는 문장을 뜻한다.\n",
        "\n",
        "8,550개의 training data와 515개의 test data로 구성되어 있다.\n",
        "```\n",
        "참고1: https://pytorch.org/text/stable/datasets.html#cola\n",
        "\n",
        "참고2: https://nyu-mll.github.io/CoLA/"
      ],
      "metadata": {
        "id": "f-fMpRBDh8Bh"
      }
    },
    {
      "cell_type": "code",
      "source": [
        "# 본 실습에서는 모델 학습에 초점을 두지 않기에 평가(dev) 데이터셋은 로드하지 않는다.\n",
        "dataset = load_dataset('glue', 'cola')\n",
        "train_iter, test_iter = dataset['train'], dataset['test']\n",
        "train_iter = [(el['idx'], el['label'], el['sentence']) for el in train_iter]\n",
        "test_iter = [(el['idx'], el['label'], el['sentence']) for el in test_iter]"
      ],
      "metadata": {
        "id": "k2X9F2azpG6y"
      },
      "execution_count": 12,
      "outputs": []
    },
    {
      "cell_type": "code",
      "source": [
        "print(\"# Train:\", len(list(train_iter)))\n",
        "print(\"# Test:\", len(list(test_iter)))"
      ],
      "metadata": {
        "colab": {
          "base_uri": "https://localhost:8080/"
        },
        "id": "yT_SpTfUvX97",
        "outputId": "4242e0e2-acfc-4b24-be7b-e48c62bbcea4"
      },
      "execution_count": 13,
      "outputs": [
        {
          "output_type": "stream",
          "name": "stdout",
          "text": [
            "# Train: 8551\n",
            "# Test: 1063\n"
          ]
        }
      ]
    },
    {
      "cell_type": "code",
      "source": [
        "# 데이터셋 예제\n",
        "for doc_id, label, sent in train_iter:\n",
        "    print(f\"Doc ID: {doc_id}\")\n",
        "    print(f\"Label: {label}\")\n",
        "    print(f\"Sentence: {sent}\")\n",
        "    break"
      ],
      "metadata": {
        "colab": {
          "base_uri": "https://localhost:8080/"
        },
        "id": "Q60ThL_4hVnC",
        "outputId": "9896f494-c7da-450b-cd32-b85cf860b213"
      },
      "execution_count": 14,
      "outputs": [
        {
          "output_type": "stream",
          "name": "stdout",
          "text": [
            "Doc ID: 0\n",
            "Label: 1\n",
            "Sentence: Our friends won't buy this analysis, let alone the next one we propose.\n"
          ]
        }
      ]
    },
    {
      "cell_type": "markdown",
      "source": [
        "###1-2. Character Tokenizer 만들기"
      ],
      "metadata": {
        "id": "Ev_C_9lagEtf"
      }
    },
    {
      "cell_type": "markdown",
      "source": [
        ">토크나이저(Tokenizer)는 총 세 가지를 수행한다.\n",
        "> 1. 텍스트를 원하는 토큰 단위(character, word, subword)로 쪼갠 후,\n",
        "> 2. 토큰을 단어장(vocabulary)에 저장한 다음,\n",
        "> 3. 각 토큰을 단어장에 매핑(mapping)되어 있는 고유번호(id)로 변환한다.\n",
        "\n",
        "```\n",
        "💡 단어장(vocabulary)이란❓\n",
        "\n",
        "토큰을 고유번호(id)로 매핑해주는 사전(dictionary)이라고 생각하면 된다.\n",
        "언어 모델이 자연어 텍스트를 그대로 이해할 수 없기 때문에 처리 가능한 숫자로 변환하는 것이다.\n",
        "\n",
        "일반적으로 학습 데이터셋에서 본 토큰들로 단어장을 구축한다.\n",
        "혹여나 추론 데이터셋에서 학습 데이터셋에서 보지 못한 단어를 접하면 unknown 특수 토큰으로 대체한다.\n",
        "```"
      ],
      "metadata": {
        "id": "Nmy-Ey5nOiW8"
      }
    },
    {
      "cell_type": "code",
      "source": [
        "class CharTokenizer(object):\n",
        "\n",
        "    PAD_TOKEN = \"<pad>\"     # 배치화를 할 때 모든 입력을 같은 길이로 맞춰 주기 위한 패딩 토큰\n",
        "    UNK_TOKEN = \"<unk>\"     # vocab에 없는 character가 들어왔을 때 unknown token으로 변환\n",
        "\n",
        "    def __init__(self):\n",
        "        self.char2idx = {self.PAD_TOKEN: 0, self.UNK_TOKEN: 1}\n",
        "        self.idx2char = [self.PAD_TOKEN, self.UNK_TOKEN]\n",
        "\n",
        "        self.__build_vocab()    # 단어장(vocab) 구축\n",
        "\n",
        "    def tokenize(self, text):\n",
        "        # 텍스트를 문자 단위로 쪼갠다. 단어장에 존재하지 않는다면 \"<unk>\"로 대체한다.\n",
        "        return [char if char in self.char2idx else self.UNK_TOKEN for char in text]\n",
        "\n",
        "    def encode(self, text):\n",
        "        # 텍스트를 문자 단위로 쪼갠 후, 고유번호로 변환한다. 단어장에 존재하지 않는다면 unknown token의 고유번호로 대체한다.\n",
        "        return [self.char2idx[char] if char in self.char2idx else self.char2idx[self.UNK_TOKEN] for char in text]\n",
        "\n",
        "    def __add_char(self, char):\n",
        "        if char not in self.char2idx:\n",
        "            self.idx2char.append(char)\n",
        "            self.char2idx[char] = len(self.idx2char) - 1    # idx2char 리스트의 길이가 늘었으므로, 다음 문자의 고유번호는 자동으로 increment 된다.\n",
        "        return self.char2idx[char]\n",
        "\n",
        "    def __build_vocab(self):\n",
        "        for _, _, sent in train_iter:\n",
        "            for char in sent:\n",
        "                self.__add_char(char)\n",
        "\n",
        "    def __len__(self):\n",
        "        return len(self.idx2char)"
      ],
      "metadata": {
        "id": "vdQ-KrxIgfTB"
      },
      "execution_count": 15,
      "outputs": []
    },
    {
      "cell_type": "code",
      "source": [
        "# 토크나이저 선언\n",
        "char_tokenizer = CharTokenizer()"
      ],
      "metadata": {
        "id": "LPFCNuvG0_Dd"
      },
      "execution_count": 16,
      "outputs": []
    },
    {
      "cell_type": "markdown",
      "source": [
        "> `__len__()`는 Python 내장 함수로써, 클래스의 길이를 `len()`로 call 할 수 있다."
      ],
      "metadata": {
        "id": "4-sbH22sRmha"
      }
    },
    {
      "cell_type": "code",
      "source": [
        "print(f\"Character vocabulary 크기: {len(char_tokenizer)}\")"
      ],
      "metadata": {
        "colab": {
          "base_uri": "https://localhost:8080/"
        },
        "id": "OUWst3TO2qW3",
        "outputId": "d7b2d251-09c7-4c6d-bfd6-a6c95b815ebd"
      },
      "execution_count": 17,
      "outputs": [
        {
          "output_type": "stream",
          "name": "stdout",
          "text": [
            "Character vocabulary 크기: 86\n"
          ]
        }
      ]
    },
    {
      "cell_type": "markdown",
      "source": [
        "> 단어장이 잘 구축이 되어있는지 첫 10개의 토큰을 프린트해본다."
      ],
      "metadata": {
        "id": "jEp7e33KR-xe"
      }
    },
    {
      "cell_type": "code",
      "source": [
        "print(f\"Character vocabulary: {char_tokenizer.idx2char[:10]}\")"
      ],
      "metadata": {
        "colab": {
          "base_uri": "https://localhost:8080/"
        },
        "id": "BTehcp6O8DhY",
        "outputId": "22080c90-6f0b-404b-dafd-7d78f7fe7baf"
      },
      "execution_count": 18,
      "outputs": [
        {
          "output_type": "stream",
          "name": "stdout",
          "text": [
            "Character vocabulary: ['<pad>', '<unk>', 'O', 'u', 'r', ' ', 'f', 'i', 'e', 'n']\n"
          ]
        }
      ]
    },
    {
      "cell_type": "markdown",
      "source": [
        "> 모르는 문자가 들어왔을 때, unknown 토큰으로 잘 대체되는지 확인해본다."
      ],
      "metadata": {
        "id": "FDmO3nu_SFdK"
      }
    },
    {
      "cell_type": "code",
      "source": [
        "char_tokenizer.tokenize(\"I am 배고파.\")"
      ],
      "metadata": {
        "colab": {
          "base_uri": "https://localhost:8080/"
        },
        "id": "YfY0R5bTPITX",
        "outputId": "de77fa1a-8171-4bf6-e448-6452668c00f8"
      },
      "execution_count": 19,
      "outputs": [
        {
          "output_type": "execute_result",
          "data": {
            "text/plain": [
              "['I', ' ', 'a', 'm', ' ', '<unk>', '<unk>', '<unk>', '.']"
            ]
          },
          "metadata": {},
          "execution_count": 19
        }
      ]
    },
    {
      "cell_type": "markdown",
      "source": [
        "> `encode()` 함수가 고유번호로 잘 변환하는지 확인한다."
      ],
      "metadata": {
        "id": "Eq8xcZbhSOAb"
      }
    },
    {
      "cell_type": "code",
      "source": [
        "char_tokenizer.encode(\"I am 배고파.\")"
      ],
      "metadata": {
        "colab": {
          "base_uri": "https://localhost:8080/"
        },
        "id": "gymRl6OcQEOY",
        "outputId": "b152a3e6-e6f0-41a5-ff47-170706b96349"
      },
      "execution_count": 20,
      "outputs": [
        {
          "output_type": "execute_result",
          "data": {
            "text/plain": [
              "[28, 5, 19, 25, 5, 1, 1, 1, 24]"
            ]
          },
          "metadata": {},
          "execution_count": 20
        }
      ]
    },
    {
      "cell_type": "markdown",
      "source": [
        "> `Dataset` 클래스를 구현한다.\n",
        ">\n",
        "> PyTorch 라이브러리를 활용해 언어 모델을 GPU 학습하기 위해서는 데이터를 배치화 시켜주는 `DataLoader`에 데이터를 넣어주어야 하는데, 데이터가 `Dataset` 형태로 입력이 주어져야 한다.\n",
        ">\n",
        "> `Dataset` 클래스에는 최소 세 가지의 함수를 필요로 한다.\n",
        ">\n",
        "> 1. `__init__()` : 일반적인 Python의 constructor이다. 변수들을 initialize 하는 데 사용된다.\n",
        "> 2. `__len__()` : 데이터셋의 길이, 즉 데이터 샘플 수를 리턴한다.\n",
        "> 3. `__getitem__(idx)` : `idx` 파라미터를 받았을 때, 해당 인덱스의 데이터 샘플을 리턴한다. 자연어 태스크 경우 보통 입력 문장(\"x\")과 해당 라벨(\"y\")를 리턴한다."
      ],
      "metadata": {
        "id": "7uTp_tQBSf9u"
      }
    },
    {
      "cell_type": "code",
      "source": [
        "class CharDataset(Dataset):\n",
        "    def __init__(self, split):\n",
        "        self.x = []\n",
        "        self.y = []\n",
        "\n",
        "        if split == \"train\":\n",
        "            for _, label, sent in train_iter:\n",
        "                self.x.append(char_tokenizer.encode(sent))  # 문장을 고유번호로 변환 후 데이터 리스트에 append\n",
        "                self.y.append(label)\n",
        "        elif split == \"test\":\n",
        "            for _, label, sent in test_iter:\n",
        "                self.x.append(char_tokenizer.encode(sent))\n",
        "                self.y.append(label)\n",
        "\n",
        "    def __len__(self):\n",
        "        return len(self.x)\n",
        "\n",
        "    def __getitem__(self, idx):\n",
        "        return self.x[idx], self.y[idx]"
      ],
      "metadata": {
        "id": "5HzOUUQmNwwx"
      },
      "execution_count": 21,
      "outputs": []
    },
    {
      "cell_type": "code",
      "source": [
        "# split에 따라 각각 학습과 추론 데이터셋을 선언한다.\n",
        "train_set = CharDataset(split=\"train\")\n",
        "test_set = CharDataset(split=\"test\")"
      ],
      "metadata": {
        "id": "XuP08qQQRK03"
      },
      "execution_count": 22,
      "outputs": []
    },
    {
      "cell_type": "markdown",
      "source": [
        "> 💡 Character로 토큰화를 했을 때 각 샘플의 길이는 매우 길어진다."
      ],
      "metadata": {
        "id": "MPvUmDFJwyn3"
      }
    },
    {
      "cell_type": "code",
      "source": [
        "print(f\"Character tokenized 샘플 예제: {train_set[0]}\")"
      ],
      "metadata": {
        "colab": {
          "base_uri": "https://localhost:8080/"
        },
        "id": "8gTR_1aIwyPn",
        "outputId": "cc6c78df-5372-4739-934c-e872927abc78"
      },
      "execution_count": 23,
      "outputs": [
        {
          "output_type": "stream",
          "name": "stdout",
          "text": [
            "Character tokenized 샘플 예제: ([2, 3, 4, 5, 6, 4, 7, 8, 9, 10, 11, 5, 12, 13, 9, 14, 15, 5, 16, 3, 17, 5, 15, 18, 7, 11, 5, 19, 9, 19, 20, 17, 11, 7, 11, 21, 5, 20, 8, 15, 5, 19, 20, 13, 9, 8, 5, 15, 18, 8, 5, 9, 8, 22, 15, 5, 13, 9, 8, 5, 12, 8, 5, 23, 4, 13, 23, 13, 11, 8, 24], 1)\n"
          ]
        }
      ]
    },
    {
      "cell_type": "markdown",
      "source": [
        "###1-3. RNN 모델 구현하기"
      ],
      "metadata": {
        "id": "pxx8eXmFwtiT"
      }
    },
    {
      "cell_type": "markdown",
      "source": [
        "![sk.drawio.png](data:image/png;base64,iVBORw0KGgoAAAANSUhEUgAAAZEAAAEjCAYAAADzIzwpAAAAAXNSR0IArs4c6QAACJh0RVh0bXhmaWxlACUzQ214ZmlsZSUyMGhvc3QlM0QlMjJhcHAuZGlhZ3JhbXMubmV0JTIyJTIwbW9kaWZpZWQlM0QlMjIyMDIzLTAyLTE3VDA4JTNBMTElM0EwNi42ODlaJTIyJTIwYWdlbnQlM0QlMjI1LjAlMjAoTWFjaW50b3NoJTNCJTIwSW50ZWwlMjBNYWMlMjBPUyUyMFglMjAxMF8xNV83KSUyMEFwcGxlV2ViS2l0JTJGNTM3LjM2JTIwKEtIVE1MJTJDJTIwbGlrZSUyMEdlY2tvKSUyMENocm9tZSUyRjEwOS4wLjAuMCUyMFNhZmFyaSUyRjUzNy4zNiUyMiUyMGV0YWclM0QlMjJJWC1BUzQ3X0NpQlc5VnVVSzhHcyUyMiUyMHZlcnNpb24lM0QlMjIyMC44LjEzJTIyJTIwdHlwZSUzRCUyMmdvb2dsZSUyMiUzRSUzQ2RpYWdyYW0lMjBuYW1lJTNEJTIyJUVEJThFJTk4JUVDJTlEJUI0JUVDJUE3JTgwLTElMjIlMjBpZCUzRCUyMksxVVQxMXBxVFZRaFJzeWVUVVZoJTIyJTNFN1Z4YmQ2STZGUDQxUGs0WEpJVEw0Mmc3bDNVNlBhN3BXbWZhZVlzU2xUbEFQQmlyenE4JTJGQVlKY0JFMW5FT2hBJTJCMUN5Y3lIdXZiJTJCdk94JTJGcUNFNjglMkZjY0FyMWRmcUUzY0VWRHMlMkZRamVqZ0JRb1FuNW45QnlpQzJtSWd6THdMSEZvTlR3NlB3a3dxZ0k2OWF4eVNZM2tGSHFNbWVkTjg2cDc1TTV5OWx3RU5CZGZ0aUN1dm03cnZHU25CZ2U1OWc5dFg1emJMWVNWbFczMG81UHhGbXV4SzFOWU1RZEhrNEdpMWV5V1dHYjdqSW1lRGVDazRCU0ZsOTUlMkJ3bHhRJTJCY2xmb25uZmFqb1BXNHNJRDZUbWZCalByWCUyRjl2NzZQbVZQMDkwWFphSWFZJTJGSk9GY3RzMkNGNXhjVG1EaEJOR3JBVlhWSWZ1M2VwZFJ6UXJXJTJCVGNGbUZ0OUl4OTVTdXVWSGx4aCUyQkVzWU9JSnQ0eXlrMHI1cm1pbCUyQndkOWhST3YwR2k5U3dXQzY5djk5bkdJV240TERnOFpSdlB5V3BoSTUwVXRaSlpDJTJCcXpEOWh6M05Ed0R3bHM3R05oRnJ0VE5kNk9uUkMlMkI4a3JuSm82aTIyQk96bmxVSkNrT2xvU2RHV2NjVTRCamgxQ1A4RzN6ZVFGeE1YTmU4dnZBSW9tWHgzRnBuUG1GQ1BWcndoNnYlMkI0TGRyYmpUQ09ndTMlMkI1NHhpJTJCV0xISkpiQWhkbFVzUSUyRmI4dFRUcmViU0ludnVjRFZHMjlqNmVKJTJGbVNoTzI5R2JOdnhsOG1LZk1meG92a2JjWFBtNW9Xa1RGTXVqUGh1NVREeXVNWlJJSGFjZVBMcHRYQmNkMEpkR2tSejRRS0Z2MkxIR1h2OHclMkIwYkZ0QiUyRlNhWkhqMzZPJTJCM2doQVNQNzg1bHhHa2t4NGNoa2dnQTFSYlIzR1RwSk9HS1ZZUktvWEN2NHlvbDdtOEQ4RWI4eDZMdUxZQ0NKNElxNE40TmdVSW5nM3dac2F2bWM2eXdIYnlHVE9GQllQdkRZZFpZJTJCdjU3elFCQU9zSEVJSjRmJTJGaDMwdk9qekh0dU1jSTN4M2VCWXRGWVolMkJUUjJmUlk1RDR4RzZEZGZpYWJVUlVUOEJyazk5VWtDJTJGTU5VQlkxU0FNVHFGc2RZa2ltRkpBbFNTcHZKNjBsd3N3SHhlUm82MlB0UFJsY2dSNnBMa0NLN21WdjBzT1lxRXFxMENTcTZmYzlWUWVRWFVQQk5xa2t4WUZlVm1xRkM3UWpHalYzRGoxNGVIdHNvWUd4SFQxc29RYVlJWnJLMWNBU2lIU0dDZEl0SXFBU1M2RmlCUjNUd25oNkoyNkJCZXBrT3pTVFpVMFFWbjEwVjlra2UlMkZycGVPdWlSaGFtM3lwZDRuUktITGlHcTB2akQ2NUh5alk4NVh6eGQzZzlyMWVyWExrQzBSVVp1VXA1YkJiaEM4cmlKNHdlSkp1WDNCeTJ3RjltJTJCbWFsRXRTUkNyN1lyV1ZpV0lhOVM4WE1wZnh5QjdKV0EyTDh0ZWVwTllUb2pqYmV0ZVJZN3NnTzVsbk9YSU5uV3Y4bG9vdzZxZElkTGpFJTJCcExSQXJiZlhad2pjZCUyRnZWWE1vTjR4eFN4aHhGNmNNYUhFR2JOUnlRekFDODRlSkxPOHY5N0dRd1pROXBUaGp3V1YxVEhoQnZUcEtZQW04VkMwV2U4UHNsbmRwQ2NybThGV1pUTXd5R2FOeVdhYTFUWFpEQXl5MlhrUXk4cG1vRlhaRERRaW16M2NUd2ZWTE1FeUFoMVR6ZUFmb1pvVktiSURxcGwxbGlMclZzMSUyQnJSVDZEUjc5Uk53WEV1S3Z3S1JwUUd0aFVpaXRtNWx0TWlrY2RMTWFkVE9rZEV3M2czM1N6WkRFSWJOUjNRd091dG5yT0ZOV04ydjNXUVBzazI2R0pONiUyRjJXeDkwaWZkREhYdHZYN2ElMkJROVhkcVU2akxRTmFhYUxXbE1TT054SDRRbXR2YUxSbENSQVRTbFBtNFlJMEd5a2FGUVdlSjZmazRiaHBMYThkM3lDZyUyQmJLeTE4a0RhSlhrSVpoelJTbHJqT2xmbFA4eUlOV2NxeFVqQnQwU2gxWE83QnJaUWYyT0M2Yk5mWnJFbTBPWkpQTEllN2drQXdUaTA5TEpaMTRBejJUZERUTHlDV0pXbkphVVpWNk5CM2VUTDhXSU9yTGZMa0N2UHNmJTNDJTJGZGlhZ3JhbSUzRSUzQyUyRm14ZmlsZSUzRcTHxy0AACAASURBVHhe7Z0JmE5l/8e/M2PXiDFIdqKUpSyl5FXShohCG28qZU2WYphSeSfrDL3WIhSKEokkpCjZUqEia9n3ZQZjnflfv9v/mXeMMfM8z1mec879va+rKzNzn3v5/L7P/T33cs4TlpqamgomEiABEiABEgiCQBhNJAhqvIQESIAESEARoIlQCCRAAiRAAkEToIkEjY4XkgAJkAAJ0ESoARIgARIggaAJ0ESCRscLSYAESIAEaCLUAAmQAAmQQNAEaCJBo+OFJEACJEACNBFqgARIgARIIGgCNJGg0fFCEiABOwls374duXPnRt68ebF3715UqVLFsurXr1+P0qVLIzExESkpKShbtqzpdZndn9OnT2Pr1q24+eabsXnzZhQtWhTR0dGmtztjgTQRyxGzAhIgATMINGrUCDfeeCNuu+02dOnSRQ3wVqWwsDDMmjULX375JWRwnjFjhulVmd2fVatWoU6dOjhw4ACqVq2Kt956Cx06dDC93TQRy5GyAhIgASsIPPnkk6hYsSJq1KiBrl27YteuXVZUo8osUKCAMpH58+fj5MmTeP/9902vy+z+/Pnnn7jllltw6tQp1K5dG3379sXTTz9tertpIpYjZQUkQAJWEOjYsSPKlSuHmjVrokePHvj+++/RrFkzyO9lQJZ04cIFNGnSBE2bNkWnTp2wbds29O7dG3KXXqlSJZX38ccfV3mPHj2KUaNGYdq0aeq6xo0bY9CgQciXLx8qVKigfr9gwQIkJSUhPj4+0y5NmDABI0eOxI4dO1S7Bg4cqGYDklq1agWZbaxevRp//fUXvv3228vKyNifdevWYe7cuZgyZQpat26NwYMHY9++faovw4cPR65cudT1V6tz9+7dKFWqlFp+q1evHl577TV1rdWJy1lWE2b5JEACphAYP348rrvuOtxwww1qIJWB/c4770SePHnw3XffqTp+/PFHNYAuWbJE7ZmIGRQpUgQvv/wy5E5dZhTTp09Xg3SvXr3UMlVcXJzaSxgxYgR69uyJ/v37q5lO9+7dsXbtWpw5cwZt2rS5og8ffPABXnjhBfTp0wfVq1fH5MmT8c0332DLli2qjTKgy8AeGRmpjKxfv36XlZFZf6Rf7du3V9e8+eabqh9fffUVxo4dq5amsqqzWLFiaNeuHWbOnInXX38dLVq0UEt/VieaiNWEWT4JkIBlBEaPHq32Rw4ePKjMQu6+P/zwQ+zZswcDBgzA22+/rfYIZJNZktyZywxEzEYMpnLlyuru37cHsn//fjWD8SfJoF2/fn18+umnKntycjLkd88//7yaOYiJSJJZiMxu/Ek+E1m+fDnuuusudYksUUk9Y8aMUeVnVac/dZidhyZiNlGWRwIkYBsBOaVVokQJZRwyW5ATVS1btkRCQoJaShKzSG8KS5cuxR9//KE25d977z11dy/LXHLXLstgMnCLoWSXxIgKFy4MMbH05T/00EPqUlkGExORPQlZIvM3+UxEltciIiLUZY8++qhayho3bly2dfpbj5n5aCJm0mRZJEACthO477771PKPLEPJpvuKFSvUvsTtt9+Of/75J20PxNew8PBwtY9x8eJFzJs3D7Nnz1ab6LL3IUtIUk52SY7nykxGrmvevHladmlLzpw500xElsVkduRv8plI+q95EoPLkSOHMqPs6vS3HjPz0UTMpMmySIAEbCcwceJEtYQkexifffYZdu7cqWYTMjOZM2cOjh8/DjEOSbK/8Pfff6v8snEtMwXZv5A7f7leZjSHDx9O28S+WmfOnTunnll59dVXMWTIEJVNyhADkeU1MSmZiZhpIlOnTs22Ttvh8/tEQoGcdZIACZhJ4MiRI2kP1cmGsuyD+AxDlqhk41uWrZYtW4bOnTurE1piILIpX7x4cbzzzjtpexmyES6nqfxJciJMNr6//vpr9fzKu+++qzbP16xZg1q1apluIrL3kl2d/rTb7DyciZhNlOWRAAnYTkA2zGWDfNOmTWpA9yUxlPTLU3KMV05k5c+fHwsXLlSzFdmUl1StWjVlBPfcc49f7Zf9mMceewwrV65Myy9HhsWoJMlMRE6FyWzF35TVcpaYSHZ1+luPmfloImbSZFkkQAIhISBmILMI31Hf9I04duyYOsIrJ5tk4z19On/+vDrGK3+TZ1ACTfJMhiyPnThxQpmXv6ewAq0nff5Q1JlVe2kiRqLJa0mABEJKQGYeGzZsUA/2yf6HHQ/XhbTDDqycJuLAoLBJJEAC/hGQvQ05zitLSLIf4s/xXP9KZi5/CdBE/CXFfCRAAiRAAlcQoIlQFCRAAiRAAkEToIkEjY4XkgAJkAAJ0ESoARIgARIggaAJ0ESCRscLSYAESIAEaCLUAAmQAAmQQNAEaCJBo+OFJEACJEACNBFqgARIgARIIGgCNJGg0fFCEiABEricgHyXifwnT9DrkmgiukSa/SQBErCUwKJFi9RrV+SbCH/++WdL63JS4TQRJ0WDbSEBEnAtgdq1ayvzKFiwoPqec/mCKh0STUSHKLOPJEAClhKQ19A/9dRTOHnypKpHDGTx4sWW1umUwmkiTokE20ECJOBaAvJdJPI2YV+Sr+uVL6uqW7eua/vkb8NpIv6SYj4SIAESyISAfFlU+/btkZiYeNlfGzVqpL6O1+uJJuL1CLN/JEAClhKQL7Pav38/UlNT1XegFyhQAKdOncLp06exfPly1KxZ09L6Q104TSTUEWD9JEACriUg39suM46YmBj1VbiyfDVt2jS1wd69e3e1N/L555+7tn/+NJwm4g8l5iEBEiCBqxC4cOECcuTIof568803K9OoXLkyzp49q2YmXk80Ea9HmP0jARKwjUClSpXUPkjFihVtqzPUFdFEQh0B1k8CJOAZAuXLl1dHe+X/uiSaiC6RZj9JgAQsJ1CmTBn88MMPKF26tOV1OaUCmohTIsF2kAAJuJ5AiRIlsGbNGlx//fWu74u/HaCJ+EuK+UiABEggGwLFihVTDx0WLVpUG1Y0EW1CzY6SAAlYTaBw4cLYvHkz5P+6JJqILpFmP0mABCwncO2112Lnzp2Q/+uSaCK6RJr9JAESsJzANddcgwMHDiB//vyW1+WUCmgiTokE20ECJOB6Anny5MGJEye0eMjQFyyaiOtlyw6QAAk4hYA8uX7mzJm0J9id0i4r20ETsZIuyyYBEsiSQPKBn3B0wzCc3rsEF8+dIC2HEIjIdS3yXd8AUVV7IW+xu7JsFU3EIUFjM0hANwIntnyEA8s7ochNXVCg+P2IyFVQNwSO7e/Fc8eRuG8RDm0ahWJ1x+Daim2v2laaiGPDyIaRgHcJnE/agW2f3oAyd01E3oJVvNtRl/cs+fjv+Oen51Ch1VbkjCyXaW9oIi4PMptPAm4kcOjnWKQm7UbRm7q6sflatfngppEIiyyJIrX+QxPRKvLsLAk4mMCu+fcjqmRT5C+S9Xq7g7ugTdNOHfoJR3d/iVKNFtFEtIk6O0oCDiewc249RJdrg3yFvf2tfw4Pg1/NO31kLQ7/PRWlmyyjifhFjJlIgAQsJ0ATsRyxaRXQRExDyYJIgATMIuB0E7l4MQXJZ86o7ubPlxdhYWFmdd115dBEXBcyNpgEvE9g57x/IbrsMyFZzrrx7hbYvH0nmj98L2Z9MDRT2MtW/oL6LV5Uf9v0w+e4sUIZ7wflKj2kiWgbenacBJxLIJQmUuHOZtj+zx40e7A+vpgUTxPJRiY0Eed+jtgyEtCWgNNN5OjxRPy0Zp2Kz711a6klLV0TTUTXyLPfJOBgAk43kd83bUPfQaMVwXGDY3B9sSLoN2gMNm7ZgUcfugf7Dx3BzHmLERERgZZNGqJty8aIjrr0xP358xcwbNwUzP76O2za+jfuqlUdTzR7AM+2fiQtIscTk/B2wnj8uPo37DtwGHfUqIK6tW/FC089ishr8mHNb39iwIgJyBERgTd7vYhhY6dAjG3eRyNsjypNxHbkrJAESCA7Ak43kcz2RO5u9jyW///sJGP/Gje8O22Ab9L2FXy1+McrELze/QW8/WoH9fvbG7VVRpEx+ZbY5HopR1LR6CgcPHwUdWpWxYq5k7JDa/rfaSKmI2WBJEACRgm43UTGD4tFyeJF0TtuJNb/uUXhOPfPSixcujJt8BfTkM17mUV8PHuByrP31wVIPHkKN9V7TP086p3X0KRhPbwZ/z4mz5h7aSazcxW++X5FWjnyO5nF1KlRFS+1aWEUfcDX00QCRsYLSIAErCbgZhNpcHdtfPvpWIXog0/m4IWeA9S/D6xfiOHvf4xBoyarn2XpKSIiHDv37MdLr72jfjch/nU81rgBtu7YheOJJxERHo6tf+9SRiMnxiSd3PoDvv9pbZqJTBre/7KlMKtjk7F8mojdxFkfCZBAtgTcbCId2j6GsYNiVB8/m7sYrV7qk2YiXWOH4tMvM389iGQa1K8rXuvUVs1gho75KFNOGU0k1EeMaSLZypkZSIAE7CbgZhPp0q4VRsa9lqmJyLLU2A9nqr/NHD8E4eGXP6RYuWI5/LzuT7Tp+obK0+nZlni88X34/a9teDn20jMrGU1EZjiyLxKqRBMJFXnWSwIkcFUCTjCRurWrY3Dsy1e0sUKZkti8/Z8rHjb0baxnZSKfzl2Mrv2GqDIXzRiDhvVux/qNWxD37kT1uz5dnsWUmV+pZS85hXV80/cIDw/Hfa06YsmPa1SepC3LsHTFL2nLWTQRfpBIgARIIAMBJ5jI1YLyQcIbuKFsyaBMJGfOHLip3uPqNJWkGlVvwi8bNql/ly9TApuWfX7Z5nvLRxpi194DWLl2Q1pzjm5cgp/WrKeJ8FNDAiRAAlcj4GQTmSgmUq4U/tW8vWr+5uWzULFcafXzD6t+RfqZyMx536Lli71VvoMbFqFI4UJq5iEb6emNofatN2Pa6P+oci5cuIjH27+GOd8sVdfJjKRXhzboP+w99fOH776FwoWuTTMRX7mhUhOXs0JFnvWSAAlclUAoTcSOsKSmpmL3voNqllG2VHH1sGLGdOjIMRw8fAyVK5ZVS1pOTTQRp0aG7SIBjQl43US8FFqaiJeiyb6QgEcI0ETcE0iaiHtixZaSgDYEaCLuCbUykR1TUPqRHzJtdFiqLN4xkQAJkICNBGgiNsI2WBVNxCBAXk4CJGA+AZqI+UytKpEmYhVZlksCJBA0gV3zGyKqZDPkL3JX0GXwQnsInDr0E47unoNSjRZzOcse5KyFBEggOwKHfu4HJO1BkZu6ZpeVfw8xgUObRgKRJVCkVhxNJMSxYPUkQAL/T+B80nZsm3EDytSdhLwFq5CLQwkkH/8d/yxvhwqttyJnZHmaiEPjxGaRgJYETmz5EAeWd0bRm7oisnhDROS69M2ATKEncPHccSTtW4yDm0aiWN3RuLbiv6/aKJ7OCn282AIS0JZA8oGfcHTDMJza8y1Szidqy8FpHQ/PWQD5S9yHqKq9kLdY1vtWNBGnRY/tIQEScCWBpKQktGvXDpMmTUJkZKQr+xBMo2kiwVDjNSRAAiSQgUBMTAzi4+PRs2dPDBw4UBs+NBFtQs2OkgAJWEVAZiFFihTB2bNnkTt3bhw6dEib2QhNxCpVsVwSIAFtCMgsJCEhAefOnUOuXLnQo0cPbWYjNBFtZM6OkgAJWEEgMTERRYsWVbMQX9JpNkITsUJVLJMESEAbAulnIb5O6zQboYloI3V2lARIwGwCMguJjo5GREQE8ufPjyNHjiAqKgrJycm4cOGC+tnrJ7VoImariuWRAAloQ0BOY8XGxmLQoEHo1q0bwsLCIC9GHzFiBGSGEhcXp/ZHvJxoIl6OLvtGAiRgKwGfidhaaYgro4mEOACsngRIwDsEaCLeiSV7QgIkQAK2E6CJ2I6cFZIACZCAdwjQRLwTS/aEBEiABGwnQBOxHTkrJAESIAHvEKCJeCeW7AkJkAAJ2E6AJmI7clZIAiRAAt4hQBPxTizZExIgARKwnQBNxHbkrJAESIAEvEOAJuKdWLInJEACJGA7AZqIQeS7j23Hul0/YcfhTTiRfBQpqSkGS9Tn8vCwcFybNwrlom9C9VJ3oWSh8p7vPPUSfIipF6eOL6kAwoIPrEVXWqkX0157Mm/9VGw+sB7lilRB8YJlcU2eQpCGM/lHQAz35Jlj2Hf8b+w49DsqFauGJtWe8e9iF+aiXowFjXrh+BKIgqzUiykmMnXlcISH50S10vVpHIFE9ip5JeDrdy5FSsp5PFOnuwklOqsI6sXceFAv5vL0emlm68WwicgdZeKZ47i1zL1eZ297/3775zsUyFPQUzMS6sU6GVEv1rH1Yslm6cWQicia9mc/j8P9VdtwBmKByuSOYdGGKWhZq4Mn9kioFwtEkq5I6sVavl4r3Sy9GDIRuas8n5KCG4vX9Bpfx/Tnr31rkTM83BOzEerFellRL9Yz9lINZujFkImMXBKL2uUfQIG8hb3E1VF9SUw+gjXbF6Jrg/84ql3BNIZ6CYZaYNdQL4Hx0j23GXoxZCJxX3VEs5qduJRloRJlyjln7Rj0azzWwlrsKZp6sZ4z9WI9Yy/VYIZeDJnIgHkv4bHaL3uJqSP78vma/+L1Ju85sm2BNIp6CYRW8Hmpl+DZ6XilUb3QRFygGqNBdkoXaSL2RIJ6sYezV2oxqheaiAuUYDTITukiTcSeSFAv9nD2Si1G9UITcYESjAbZKV2kidgTCerFHs5eqcWoXmgiLlCC0SA7pYs0EXsiQb3Yw9krtRjVC03EBUowGmSndJEmYk8kqBd7OHulFqN6oYm4QAlGg+yULtJE7IkE9WIPZ6/UYlQvNBEXKMFokJ3SRZqIPZGgXuzh7JVajOqFJuICJRgNslO6SBOxJxLUiz2cvVKLUb3QRFygBKNBdkoXaSL2RIJ6sYezV2oxqhdXmcjJpJO4o2KdTGOX/5r8uOueuxAzoA+KFS+m8vTrFosvZnyh/j3u47Go16Be2rWjho7G2PixKFuhLL5aPg87d+zEw3c2Un+vcmsVfDL/Y4SHX/pSrTPJZ1CzXC3174Tx8XjwkQdt1Y/RINva2Cwqs9tEqBenRD64dlAvwXEL9Cqj44urTCQp8STqVMrcRHzgoqKjsOjnRciTJzf6vtwPcz6do/5UoVIFzF4yCxE5ItTPIwePxLjh76FkmZL4ZtWCy0wko1kkn05GrfK11XXD3huGh5s9FGicDOU3GmRDlZt4sd2DAvViYvBCUBT1Yg90o+OLa03k0daPosFDl74I6+jho5gyfiq2bd522WwhvYnIHwYMH4AWTzb3y0RkNrNg1dfIlSsXaCLmiDmUgwL1Yk4M7SyFerGHtrYm0jcuBk8//3Qa5aWLl6HTM53Uz91iuuHFbu0vm4nI72WWIrOOfPnzZTsTkfx9BvRBm/bP0ET81HJCQgLat2+PyMjITK8I5aBAvfgZRBuzUS/eGF9cOxPJOCjMnTkPfbr0UR+BER+MwP2NG6aZiCxl7d+7H6dOnkLX3l3RoftLWZpIzTo1sXblWsg+y+K1i5AzZ04uZ/kxuOTNmxcpKSno0aMH+vbte4WZOMlEqBc/AmpxFurFG+OLa01ENr9vqX6Lkvnxo8fx43c/KpOQ2YZslBe4tkCaidxx9x1qM/zt3m+r/N+v+w7TJ0+/6p7Ie5+Mwxs9+uPAvgN4vsvz6NijA03EjwFlxIgRiImJUUYSFhamzER+9s1MQmki1IsfAbQ5C/XijfHFtSZyNb1P/XIKbrv9NvVn356ImMj46e+jeYMWat/kiWdbo2Chglc1kSlzPsKB/QfR66VeqpzZ381G83sv7aVwYz3rkaZw4cI4evSoyiT7SWIm3bt3R79+/TD8+562fv+MPxvr1IvNzpGhOurF/eOLa03kngfugZhDysWL2LJpa9pRXpmJ/PD7sitMZOLMD7Bi2Qq80Kq9+lv9hv+C7KNkdjpLTESMqE2ztvh19a+Qur5f+H1ITaR/0/Gh/bQHUHtqaupluWU5sGnTpqj+bOGQmQj1EkAAbc5KvYR+fDHypXeuNZGMeyIDYwdi6oRpSv7f/rIY111/3WUzETERSZ3bdkkzBPn5aiZS444a+GPdH2j1YOvLPlKhmonENh5n80c7uOqio6MznYnIHsmIpb1CZiLUS3DxtPoq6sUZ4wtNBED6jdJPv5mh9kvSL2f5TGTHtr/RpG6TtM9GViYimV7v/gZmfTIrLX+oTMRIkK0eCHzlv/vuu2oP5OLFi2oZ65VXXlEb7AUKFFBZQrknktVBDOrFLoVcXg/14o3xxTMzkcXzv0W357oplX74xWTUqlMrUxORv8e/HY+JYyapvNmZyMH9B3HvrQ1oIn6MM3LaRgzEdzrLZx6+S51kItSLHwG1OAv1AnhhfHGViaR/jUW/d/riqeeeSpP5H+v/RKsHWqmfW/+7Nd4Y/Hraa0/uqn8nxs/4355C4olENKx5vzrNlZmJpN9slfImjJyA4XEjVNl87cnVR5b4+Hj1nEhG8wiViVAvFruAweKpl0sA3T6+uMpEDGrWtZcbfaLUKR23eybilH7b3Q7qxW7i7q7PqF5oIi6Iv9EgO6WLNBF7IkG92MPZK7UY1QtNxAVKMBpkp3SRJmJPJKgXezh7pRajeqGJuEAJRoPslC7SROyJBPViD2ev1GJULzQRFyjBaJCd0kWaiD2RoF7s4eyVWozqhSbiAiUYDbJTukgTsScS1Is9nL1Si1G90ERcoASjQXZKF2ki9kSCerGHs1dqMaoXmogLlGA0yE7pIk3EnkhQL/Zw9kotRvVCE3GBEowG2SldpInYEwnqxR7OXqnFqF5oIi5QgtEgO6WLNBF7IkG92MPZK7UY1QtNxAVKMBpkp3SRJmJPJKgXezh7pRajeqGJuEAJRoPslC7SROyJBPViD2ev1GJULzQRFyjBaJCd0kWaiD2RoF7s4eyVWozqxZCJxH3VEc1qdkJ4WLhXeDquHympKZizdgz6NR7ruLYF2iDqJVBigeenXgJnpvMVZujFkImMXNIPtcs/iAJ5C+scB0v7nph8BGu2f4OuDeIsrceOwqkX6ylTL9Yz9lINZujFkInMWz8FF1JSUal4TS9xdVRfNu9bixzhYWhSrY2j2hVMY6iXYKgFdg31Ehgv3XOboRdDJrL72HZ89vM43F+1DZe0LFCjTDUXbZiClrU6oGSh8hbUYG+R1Iu1vKkXa/l6rXSz9GLIRASq3F2eOHMCt5W512uMQ96fX//5DtfmudYTsxAfTOrFOllRL9ax9WLJZunFsIkI3CkrhyM8PCeql67PGYkJapM7hHU7lyIl5Tza1OluQonOKoJ6MTce1Iu5PL1emtl6McVEfDOSLQc2oFyRKriuYFlck6cQDSUANUpgT545hv3H/8aOQ7+jYrGqnpqBZEQhMxLqJQCBZMhKvXB8CUQ9VurFNBORDsma92+7lmPH4U1ITD4KaTiTfwTkmHSBvFEoF30Tbi1V1xN7INn1nHrJjtDV/069cHwJRD1W6sVUEwmkU6HIm5SUhHbt2mHSpEmIjIwMRRNYp4sIUC8uCpYDmqqrXrQykZiYGMTHx6Nnz54YOHCgA2THJjiZAPXi5Og4r2266kUbE5G7hCJFiuDs2bPInTs3Dh06xNmI8z6HjmkR9eKYULiiITrrRRsTkbuEhIQEnDt3Drly5UKPHj04G3HFxzM0jaReQsPdrbXqrBctTCQxMRFFixZVsxBf4mzErR9X69tNvVjP2Es16K4XLUwk/V2CT7ycjXjpY2xuX6gXc3l6vTTd9eJ5E5G7hOjoaERERCB//vw4cuQIoqKikJycjAsXLqifeVLL6x9z//tHvfjPijkB6gXwvInIaazY2FgMGjQI3bp1Q1hYGFJTUzFixAjIHURcXJzaH2EiASFAvVAHgRCgXjQwkYyC8JlIIEJhXn0JUC/6xj6YnuuoF8/PRGgiwXwUeI2PgI6DAqMfPAEd9UITCV4vvFIDAjoOChqE1bIu6qgXmohlcmLBXiCg46DghbiFqg866oUmEiq1sV5XENBxUHBFYBzaSB31QhNxqBjZLGcQ0HFQcAZ5d7ZCR73QRNypVbbaJgI6Dgo2ofVkNTrqhSbiSSmzU2YR0HFQMIudjuXoqBeaiI5KZ5/9JqDjoOA3HGa8goCOeqGJ8INAAlkQ0HFQoCCCJ6CjXmgiweuFV2pAQMdBQYOwWtZFHfUS9uf81qnmEjW5OHMb55LSwkxtZ+WHp5tW3savnzCtrEsFUS/GgTpVL6nY+PWTxrt3WQnUi3Gg5uol7M/5rVIr3/2a8Xb9fwkbfxwClhc8Tkv4PTwj+AZluHLj160ZXwM0LYmv2Z9f0/QiJvIE9eJxvdBEDARYLtVrUABoIsYEo5deaCLG1OKO8YUmYjDKeg0KNBGDctHspoMmooNeaCIGo0wTMQbQFfzMXi5yenlczgpa1DrqmSYStFwuXegK0Zg2KHAmYlAumumFMxEd9EITMRhlmogxgK7g5/SZg9ntM+2mgyZi7NPhjptUmojBKLtiEDRtUOBMxKBcOBMxCNAVnzezTd3h5dFEdBA1TSToKGs5aJmmF85Eghaeix6ZoIkYjLIrBhnTBgXORAzKhTMRgwBd8Xlz+MzB7Of4aCI6iJomEnSUtRy0TNMLZyJBC48zET4BH6x4LBm0TBsUOBMJNq6+6yyJr9l3vqbphSaig144EzEYZb0GBZqIQblwOcsgQFd83sw2dYeXRxPRQdSm3VnSRAzKhSZiECBNxBhAK/jRRIzFRLNBgSZiUC6a6YXLWTrohSZiMMpWOLvZpycqcyYSdJRdEV+zlztM0wtNJGjhcWOdG+vBiseSQcu0QYEzkWDjyo11o+QuXW/J58NsE9asPM5EDGrbFaKmiQQdZVfE1+xByzS9cCYStPA4E+FMJFjxWDJomTYocCYSbFw5EzFKjjMRMwhaMb5wJmIwMlYEhXsiwQfFRiDbYwAAFaFJREFUFfEwe+Zgdnmm3XRwJhK8kt1jmspEjHaU1zubgNkb687uLVtnlIB5erlkIkzeJhCWmppqsomYXBzMKy8pKQnt2j2PSZM+QGRkpImR9feL7/3ti7/l+dsFM8vztw/+ts255f1PLxMRGXmNvx3yI5+Z8ZDqnFqe2bGVvppdpnnl6aoXC0zEj89QiLLExMQgPj4ePXv2xMCBA0PUClbrFgLUi1si5Yx26qoXbUxE7hKKFCmCs2fPInfu3Dh06JDJsxFnCJmtMIcA9WIOR11K0Vkv2piI3CUkJCTg3LlzyJUrF3r06MHZiC6f8CD6Sb0EAU3jS3TWixYmkpiYiKJFi6pZiC9xNqLxJz6brlMv1EYgBHTXixYmkv4uwScOzkYC+ZjolZd60SveRnuru148byJylxAdHY2IiAjkz58fR44cQVRUFJKTk3HhwgX1s7kntYxKkteHkgD1Ekr67qubegE8byJyGis2NhaDBg1Ct27dEBYWBjnVPGLECMgdRFxcnNofYSIBIUC9UAeBEKBeNDCRjILwmUggQmFefQlQL/rGPpie66gXz89EaCLBfBR4jY+AjoMCox88AR31QhMJXi+8UgMCOg4KGoTVsi7qqBeaiGVyYsFeIKDjoOCFuIWqDzrqhSYSKrWxXlcQ0HFQcEVgHNpIHfVCE3GoGNksZxDQcVBwBnl3tkJHvdBE3KlVttomAjoOCjah9WQ1OuqFJuJJKbNTZhHQcVAwi52O5eioF5qIjkpnn/0moOOg4DccZryCgI56oYnwg0ACWRDQcVCgIIInoKNeaCLB64VXakBAx0FBg7Ba1kUd9ZJmIqtXr8ayZcvw999/qxcTejXJe7Mk0F5NOXLkQNmyZVG/fn3Url3bsm6uWbMGS5cupV4sI2xPwXbpheOLPfG0upbM9KJMZObMmdi0aRMeeOAB3HjjjciZM6fVbWH5FhE4f/48/vrrLyxcuBA33XQTHn/8cdNrol5MRxqyAqmXkKF3ZcWZ6SVs1apVqTLgdO3alebhyrBm3mgJ9siRI9WNwe23325az+SOknoxDadjCvLp5cEHHzR1Bku9OCbEpjYkvV7Chg4dmvqvf/0LVapUMbUSFhZ6Ar///rtaouzVq5dpjRk2bBioF9NwOqogK/QydOhQtbTK8cVRoTalMT69hHXq1Cn1nXfe4SzEFKzOKkTuFvr27YvRo0eb1rDOnTuDejENp6MKEr3069cPo0aNMq1d1ItpKB1XkE8vYS+++GLq8OHDHddANsgcAt27d8d7771nTmEAXnrpJVAvpuF0XEHyBW3jxo0zpV1yiKVjx45ISEgwpTwW4jwCoheaiPPiYmqLaCKm4vR8YTQRz4fY1A7SREzF6czCaCLOjItTW0UTcWpknNkumogz42Jqq2gipuL0fGE0Ec+H2NQOWm4i8rzCxYsXM210VFQUrrvuuoA7dPToURw6dAgFCxZEsWLFAr4+swuSkpKwd+9e5M2bF6VLl860zB07duDcuXPq7+Hh4diwYYPKV6tWLVPaYFUhbjIR6sUqFfhfrptMhHrxP65W5bTcROQo6NVSy5Yt1bMpgabp06djzJgxaNGiBV555ZVAL880/3fffYf+/fvjtttuw7vvvptpnqeffhq7du1Sz14ULVoUrVu3VvnkCK2Tk5tMhHoJvZLcZCLUizP0YunGui/Id999N4oUKXJZj2+99Vbce++9AVNwgomUL18e06ZNU69PkdNKTk5uNBHqJXSKcqOJUC+h1YstJiLnzqtVq5ZpT2NjY9Uy0cMPP4yvv/4a+/fvhzw1e99996nz6hs3blQzhJdffhkFChSAz0Qeeugh5MuXDytXrlTLWk899RTuuOMOVceZM2cwceJELF++XP27Ro0aePHFF9OMTJbDpGx5WKZChQqoXLkyJk2adNlMZO7cuZD/Tp06hUaNGql/y5KXzERKlSqFuLg4ZSLy8N3hw4cxZMgQFCpUCNWrV1d5ZRmvQYMGasaUK1cu1a4vvvgC8+bNw8mTJ/HEE09g27ZtqkwZ6EuWLGmJEtxoItRL6PTiRhOhXkKrF1tMRJZ+Mu41yACbP39+9fRzZkkM4vTp02l/aty4MXr37p1mIpldI89DiCH07NkT8oLA9ElmQmIUsu8hA7gYScbkW8766quvMHjw4Ezbldly1p49e/Dkk09mml/Oycvfsipz/Pjx6p1lViQ3mgj1Ejq9uNFEqJfQ6sUWE8lscPzkk09QokSJNBN59tln1R1/TEyMukOXGcJ//vMfNfhOnTpV3f3LEpJvJiImM2LECERHR+PVV19V18h7oh599FF06tRJVSl1yAa8DOTydmJ5/Ydc9/bbb6v/yz5ImTJl8NxzzynD8pnIY489pkymYcOG6lqZPYgBScrORN566y3ceeedGDhwIGSvRV75MGDAAGVcMuuQmYnUJ7OSCRMmqDJpIpcUktUaN/Vij17caCIcX0I3vti2sS5LVWIY6VPz5s0RGRmZNnBMnjwZstcgT0PPnj0bYioy2P7666/o1q2bWor6/PPP00xEBvg33nhDFfnll1+qZSUxHnlrrcwixCR8J6dkSUxMQZbJZFN8ypQpql4xKZ8xfPbZZ8pEBg0apPJJkiWxG264AXIiTMzJHxNZsmQJ5HXJYjyyxFWnTh2IsfjK/Pjjj9XSlSyzienRRP6nCp+JUC+h04sbTYR6Ca1ebJmJZLVm6Rs4ZGCXWcF///tfyKvGX3jhBbRt2xa//fab2g/JaCIiHJm1SJo/f74a/OV7NJo2barKEBORV6GnT7KZL4Ygs4BHHnlEzWAk+ZaaxERkj0ZmIpLEWHzHiJs1a4Zjx45lOROROhcsWHBZm8RE5H1EUl/6MuU7W2RJjyZypYlQL6HTixtNhHoJrV5cayKyiT1jxgzkyZNHLU8tXrxYzS5kSaxPnz7KRGbNmqX+LxvoBw4cUPsyP//8M8aOHYvrr79ezUhk1vDmm2+qpScxEZkJ3XPPPWpkk8FfZhCyVNauXbtsZyJXMxGZkchBAFkyk2PNcrxZjgaLYdFE7DER6uWy+6mr/kATufQIAfXiv15sMZHMmiNLT7LPEOxMRMqUQMsMZfPmzaoK2YeQ2Yac1JJZg5wIk2U0OfUlSd5mK3sovmc85FrZ3Jf9Ekm+PZH4+HjMmTNH/U5Odv3yyy9pXchqTyQrE5H9j48++kiVI/Wm39jnnsglvFntiVAv/zsIYqVe3GgiHF+GqP3VUIwvlu+J+O6+MwuyLD1Jp315ZPNcZgoySMsykm85a926deruPeNyVtWqVbF7925lFpLatGmD559/Xj1NLt/SKK8r95mD/F1OKck+jCTZt5DZhy/JyS9Z0hLDkM16eYJd/u474SVmlJiYqMqTqbPsq7Rq1UpdLjMK3+ms9CYixiWmJstZMhORY8zy4Zfjv5JkxiTLcDI78e29+Of9geVy0+ks6iX0enGTiVAvztCLpTORwIa7wHPLq6ZlmUpOYMmyVvqUkpKi/iYb2DIb8T2r4ctz9uxZ7Nu3T716JeO1vjxyvSQzXq+yYsUKyPv3ZaO+ePHi6nkY34xo0aJFyJ07d+AA/LjCTSbiR3cMZaFessfnJhPJvjfGclAv2fOzfCaSfRP0ySGHAOThR1mCu+WWW/Djjz+qzsssx8wvAcpIlCbiTo2FSi80EeolEAI0kUBoGcwry27ynMvatWvVRr0sz8nymSzVyZP4ViWaiFVkrS03VHqhiVgbV6tKD6VeXL2cZVVArC5XXokSERFhdTWqfJqILZgtrcROvdBELA2lLYXbrReaiC1hDV0lNJHQsXdjzTQRN0YtdG3mclbo2NtWM03ENtSeqIgm4okw2tYJZSKdOnVKleOwOXPmtK1iVmQPATkN1rdvX/V8jFmpc+fO6vg09WIWUeeUI3qRB2zNPOhBvTgnvma3xKeXsKFDh6bKQ15VqlQxuw6WF2IC8qT+0qVL017vYkZzhg4dql4qSb2YQdNZZYhe5LkneVGpWYl6MYuk88rx6SVs1apVqQsXLlSnhHh36bxABdsiuUuQBzflJY+33357sMVccd3q1atBvZiG0zEFWakXeQ6qS5cuHF8cE23jDUmvl7DU1NRUeUJcvq9YBhz5XguaiXHIoSpBgiuxlIFeYinv6TI7US9mEw1deen1Ii8slbdgm52oF7OJhq68zPSiTESaJHeYMpXdsWMH5A2zXk3yivYmTZp4tXvqhZLyShlZcjJzBpIRmOhFlsrkVTDUi3vlRL2YGzsdxpdy5cqp99z5xpc0EzEXpTNLk3diyYN98h4s+S4TJhLIigD1Qn0EQkBXvWhlIvIqCfneEXlVvLwckYkEsiJAvVAfgRDQVS/amIjcJcirRuTFi/KyQ3kVO2cjgXxE9MpLvegVb6O91Vkv2piI3CUkJCSoV7LLG33lIRnORox+dLx7PfXi3dha0TOd9aKFicgeiHwHiMxCfImzESs+St4ok3rxRhzt6oXuetHCRNLfJfiExdmIXR8x99VDvbgvZqFsse568byJyF2CfCWuvDVXvgr3yJEjiIqKQnJysjqaKj9zbySUH0Fn1U29OCseTm8N9QJ43kTk+9JjY2PVqaxu3bohLCwM8miMfA2u3EHExcWp/REmEhAC1At1EAgB6kUDE8koCJ+JBCIU5tWXAPWib+yD6bmOevH8TIQmEsxHgdf4COg4KDD6wRPQUS80keD1wis1IKDjoKBBWC3roo56oYlYJicW7AUCOg4KXohbqPqgo15oIqFSG+t1BQEdBwVXBMahjdRRLzQRh4qRzXIGAR0HBWeQd2crdNQLTcSdWmWrbSKg46BgE1pPVqOjXmginpQyO2UWAR0HBbPY6ViOjnqhieiodPbZbwI6Dgp+w2HGKwjoqBeaCD8IJJAFAR0HBQoieAI66oUmErxeeKUGBHQcFDQIq2Vd1FEv2pmIfP+4fC84Ewn4Q4B68YcS8/gI6KgX7UyEcicBEiABEjCPAE3EPJYsiQRIgAS0I0AT0S7k7DAJkAAJmEeAJmIeS5ZEAiRAAtoRoIloF3J2mARIgATMI0ATMY8lSyIBEiAB7QjQRLQLOTtMAiRAAuYRoImYx5IlkQAJkIB2BDxrIuvXr0fp0qWRmJiIlJQUyENAycnJ2LJli/p3gQIFkFke7RTg4Q5v374duXPnRt68ebF3715UqVIFx44dw65du1CtWjXLen769Gls3boVN998MzZv3oyiRYsiOjrasvpYsHECBw8eVNooV64cNm3ahIoVKyrdyBgh/5ef0ycZV+ShZYlxjhw5VL7rrrtOxTpjOn/+PDZu3HjZr0WXN954Y9rvrla/8Z5ZX4JnTURePzBr1ix8+eWXkA/1jBkzsG7dOtx6662YO3cumjRpgszyWI+cNdhFoFGjRuqDetttt6FLly7qhmLq1Klo06YNUlNTLWvGqlWrUKdOHRw4cABVq1bFW2+9hQ4dOlhWHws2TmDYsGGYNGmSGi9uuOEGbNiwAZUrV1YGIem3335D9erV0yqSfM2aNcOePXtQrFgxle+dd95BTEzMFY3ZuXMnypQpc8Xvy5cvj86dO6NHjx7IrH656XFD8qyJyExDTGT+/Pk4efIk3n///StMJLM8bgga2+gfgSeffFLdQdaoUQNdu3ZVMxA7TOTPP//ELbfcglOnTqF27dro27cvnn76af8azVwhISDjg89EZDYhs4ySJUummYjEccWKFYiIiFDtC8ZEJk6ciCeeeEJdL7Me+fn111/HvHnzlBllrD8z4wkJnGwq9ayJVKhQAdOmTcOCBQuQlJSE+Pj4K0wkszxODBLbFByBjh07quWJmjVrqrs9mYlmNJGffvoJffr0UXeakrd79+7497//rW4+Bg8erD7ocmcqSZaonnvuOXXHeffdd2PhwoUYOHAgxDTq1aunBgS5W929ezdKlSqlllHl96+99hqaNm0aXCd4lS0Epk+fjsmTJ2P27NnIly8fDh8+jIIFCyoTefbZZ9XfRo0apWYOwZqIaC/9zYQYhxhVQkICihcvfkX9hQsXtqXvRivxrInInacMCGvXrsWZM2fUEkbG5azM8hgFyuudQ2D8+PFqnVpMYMKECepGIr2J/PHHH2qfpHnz5pBZy7Jly9RAMWXKFDRo0AAlSpTA0KFD0atXL9UpMRUxHFkWW716NRo2bKjytWrVCp9++imWLFmi9kCkznbt2mHmzJnKWFq0aKGW1JicS2DlypVYvHgxYmNj1VK3rGLIrENMZMyYMdixY4fSgtwgiC6CmYmkNxFZTpXyevfurcYlWXLPWH+uXLmcCyxdyzxrIpnRz2girogQG2kqgfQmIgP9559/jqNHj6YtW8iMYdu2bRCDeeCBB9QsVpYxJMksQ/776KOP1ExE/iaakiSHNmRtXG5cZA+Eyf0ELl68mGYizzzzjLoZqVu3btpea6B7IpUqVcL111+vwMjsVTbTZZlMbkjcnGgibo4e2x4wgfQmIoYgG+8yi/Al32xDTtR88sknaNu2rVqvljtF2V/55ptvcN9996nBRU54Pfzww2nXypp2/fr1Lysv4AbyAscQSG8isjT6xRdfqFnrnDlzVBsDNZH7779f7ZVJypkzJ8RUnnrqKbV85uZEE3Fz9Nj2gAmkNxGZOciHePjw4WnlxMXFqSUNMRE5kFGoUCF1KEOWsIYMGaIMRZZHIyMj1Ya9nMJKn+TIp2/dPODG8QJHEchoItI4manK6Ts5TeW7wfD3dFbGPRFHddZAY2giBuDxUvcRSG8i9957r1rK8i1J+QaJv/76C/KfpNatW6tlK9lolfwyU5EkJ/tkFiJHx31p9OjR6hmkxo0buw8MW3wFgcxMRE5tyQEMOcEly1GBHPGliXhAZNwT8UAQDXYhvYnIDOOll15Sy08y8C9duhTybImclpG9DUm+DVT59y+//JK2QS4bojIzkdNbsrn+4Ycfon///uq4Jk3EYJAccnlmJiJNkw1xOXEnKb2JtGzZUi1xpU+yXCqGI8d1aSIOCayRZshTpbIOzg+6EYruvja9iciSlSw9ySkuX5LjnGPHjkWePHnUr2TpSgYBObIrm+2+JMtbkleOhPqSPA8iy2FM3iDgMxHRQ/qHRc+dO6duJmRzPL2JZNZruRmR/+TtGR9//LE6Bei1pNVylteCx/6YQ0CeLJeniuUJ4kDP5suRz3379kGeOYqKijKnQSyFBFxEgCbiomCxqSRAAiTgNAI0EadFhO0hARIgARcRoIm4KFhsKgmQAAk4jQBNxGkRYXtIgARIwEUEaCIuChabSgIkQAJOI0ATcVpE2B4SIAEScBEBmoiLgsWmkgAJkIDTCNBEnBYRtocESIAEXESAJuKiYLGpJEACJOA0AjQRp0WE7SEBEiABFxH4PzurYytpJ97QAAAAAElFTkSuQmCC)"
      ],
      "metadata": {
        "id": "2gDgIKn8bYV_"
      }
    },
    {
      "cell_type": "markdown",
      "source": [
        "> 토크나이저 성능을 측정하기 위해 간단한 RNN 모델을 정의한다.\n",
        "\n",
        "> `RNNModel`은 다음과 같은 파라미터를 받는다.\n",
        "> - `vocab_size`: 단어장의 크기, 토크나이저의 길이\n",
        "> - `input_size`: 각 토큰 벡터의 차원\n",
        "> - `hidden_size`: RNN의 hidden state 차원\n",
        "> - `output_size`: 클래스의 수\n",
        "> - `num_layers`: RNN의 층 수\n",
        "> - `bidirectional`: 양방향 RNN (True/False)\n",
        "> - `rnn_type`: LSTM or GRU"
      ],
      "metadata": {
        "id": "V7BPBtj6XOog"
      }
    },
    {
      "cell_type": "code",
      "source": [
        "class RNNModel(nn.Module):\n",
        "    def __init__(self, vocab_size, input_size, hidden_size, output_size, num_layers, bidirectional=True, rnn_type=\"lstm\"):\n",
        "        super(RNNModel, self).__init__()\n",
        "        self.bidirectional = bidirectional\n",
        "        self.rnn_type = rnn_type\n",
        "        self.dropout = nn.Dropout(p=0.1)\n",
        "        self.embed = nn.Embedding(vocab_size, input_size)\n",
        "\n",
        "        if rnn_type == \"lstm\":\n",
        "            # nn.RNN 계열은 default로 텐서를 (seq, batch, feature)로 리턴하기 때문에, batch_first=True를 꼭 넣어줘야 (batch, seq, feature)로 리턴한다.\n",
        "            self.rnn = nn.LSTM(input_size, hidden_size, num_layers, bidirectional=bidirectional, batch_first=True)\n",
        "        elif rnn_type == \"gru\":\n",
        "            self.rnn = nn.GRU(input_size, hidden_size, num_layers, bidirectional=bidirectional, batch_first=True)\n",
        "\n",
        "        # bidirectional RNN은 forward와 backward hidden state 두개가 있기 때문에 linear layer의 크기가 두배로 된다.\n",
        "        self.fc = nn.Linear(2 * hidden_size if bidirectional else hidden_size, output_size)\n",
        "\n",
        "    def forward(self, input_text, lengths):\n",
        "        token_embeddings = self.dropout(self.embed(input_text))\n",
        "\n",
        "        # 다양한 길이의 패딩된 입력을 \"pack\"하여 좀 더 효율적으로 연산한다. (PyTorch documentation 참고)\n",
        "        token_embeddings = pack_padded_sequence(token_embeddings, lengths.cpu().numpy(), batch_first=True, enforce_sorted=False)\n",
        "\n",
        "        if self.rnn_type ==\"lstm\":\n",
        "            _, (hidden, cell) = self.rnn(token_embeddings)  # LSTM은 추가로 cell state을 리턴한다.\n",
        "        elif self.rnn_type == \"gru\":\n",
        "            _, hidden = self.rnn(token_embeddings)\n",
        "\n",
        "        if self.bidirectional:\n",
        "            hidden = torch.cat([hidden[-2], hidden[-1]], dim=-1)    # bidirectional일 경우 forward와 backward hidden state를 결합한다.\n",
        "            out = self.fc(hidden)\n",
        "        else:\n",
        "            out = self.fc(hidden[-1])   # last hidden state만 사용한다.\n",
        "        return out"
      ],
      "metadata": {
        "id": "dNIuma-xw3xI"
      },
      "execution_count": 24,
      "outputs": []
    },
    {
      "cell_type": "code",
      "source": [
        "char_model = RNNModel(vocab_size=len(char_tokenizer),\n",
        "                      input_size=256,    # token embedding size\n",
        "                      hidden_size=256,   # hidden state dimension\n",
        "                      output_size=1,     # binary classification을 regression problem으로 접근\n",
        "                      num_layers=2)\n",
        "\n",
        "print(char_model)"
      ],
      "metadata": {
        "id": "cI9HpxMv8Z8K",
        "colab": {
          "base_uri": "https://localhost:8080/"
        },
        "outputId": "153e74a3-a535-4dab-d1e4-05aacb74ca85"
      },
      "execution_count": 25,
      "outputs": [
        {
          "output_type": "stream",
          "name": "stdout",
          "text": [
            "RNNModel(\n",
            "  (dropout): Dropout(p=0.1, inplace=False)\n",
            "  (embed): Embedding(86, 256)\n",
            "  (rnn): LSTM(256, 256, num_layers=2, batch_first=True, bidirectional=True)\n",
            "  (fc): Linear(in_features=512, out_features=1, bias=True)\n",
            ")\n"
          ]
        }
      ]
    },
    {
      "cell_type": "code",
      "source": [
        "def count_parameters(model):\n",
        "    return sum(p.numel() for p in model.parameters() if p.requires_grad)    # gradient가 흐르는 총 파라미터 수를 계산한다."
      ],
      "metadata": {
        "id": "Auvneg5w_mwA"
      },
      "execution_count": 26,
      "outputs": []
    },
    {
      "cell_type": "code",
      "source": [
        "print(f\"Char embedding parameter 개수: {count_parameters(char_model.embed)}\")\n",
        "print(f\"RNN parameter 개수: {count_parameters(char_model.rnn)}\")"
      ],
      "metadata": {
        "id": "RcXwBGBo_oL8",
        "outputId": "bb7b2483-0033-45af-afb1-2b001c9dc67b",
        "colab": {
          "base_uri": "https://localhost:8080/"
        }
      },
      "execution_count": 27,
      "outputs": [
        {
          "output_type": "stream",
          "name": "stdout",
          "text": [
            "Char embedding parameter 개수: 22016\n",
            "RNN parameter 개수: 2629632\n"
          ]
        }
      ]
    },
    {
      "cell_type": "markdown",
      "source": [
        "###1-4. Character-based tokenizer 성능 평가"
      ],
      "metadata": {
        "id": "m7y3NUR-7kdp"
      }
    },
    {
      "cell_type": "code",
      "source": [
        "batch_size = 16\n",
        "learning_rate = 1e-3\n",
        "num_epochs = 2\n",
        "device = torch.device('cuda') if torch.cuda.is_available() else torch.device('cpu')\n",
        "print(f\"Device: {device}\")"
      ],
      "metadata": {
        "id": "T1ARdF7u9RrF",
        "colab": {
          "base_uri": "https://localhost:8080/"
        },
        "outputId": "97bb17fd-ad9f-432b-ec48-dbb04c9ae8ab"
      },
      "execution_count": 28,
      "outputs": [
        {
          "output_type": "stream",
          "name": "stdout",
          "text": [
            "Device: cuda\n"
          ]
        }
      ]
    },
    {
      "cell_type": "markdown",
      "source": [
        "```\n",
        "💡 collate_fn이란❓\n",
        "\n",
        "입력 텍스트의 길이는 항상 일정할 수가 없다. 모든 샘플을 같은 사이즈로 만들 수 있는 이미지 데이터와는 다르게,\n",
        "텍스트 데이터는 패딩(padding)을 통해 배치 내의 샘플들의 길이를 일정 사이즈로 맞춰 주어야 한다.\n",
        "\n",
        "데이터 전처리를 할 때부터 모든 샘플들의 길이를 max sequence length로 설정하는 방법도 있지만, 이 경우 샘플들의 평균 길이가 길어져 모델 학습 시간이 늘어나는 단점이 있다.\n",
        "collate_fn 함수를 사용하면 배치에서 가장 긴 길이의 샘플을 기준으로 나머지 샘플들을 패딩할 수 있다.\n",
        "이러한 과정을 dynamic batching이라고도 칭한다.\n",
        "\n",
        "PyTorch의 DataLoader에 collate_fn 함수를 넣을 수 있는 방법을 살펴보도록 한다.\n",
        "```"
      ],
      "metadata": {
        "id": "tDjzYnd-xdYU"
      }
    },
    {
      "cell_type": "code",
      "source": [
        "def char_collate_fn(batch):\n",
        "    PAD = char_tokenizer.char2idx[char_tokenizer.PAD_TOKEN]         # 토크나이저의 패딩 토큰의 고유번호\n",
        "\n",
        "    # dynamic batching\n",
        "    lengths = [len(b[0]) for b in batch]\n",
        "    max_len = max(lengths)  # 배치 내에서 가장 긴 텍스트 길이\n",
        "    sents = [b[0] + [PAD] * (max_len - len(b[0])) for b in batch]   # 배치 내에서 가장 긴 텍스트 길이까지 패딩\n",
        "    labels = [b[1] for b in batch]\n",
        "\n",
        "    # 텐서화\n",
        "    sents = torch.LongTensor(sents)\n",
        "    lengths = torch.LongTensor(lengths)     # RNNModel에서 pack_padded_sequence()를 쓰기 위해 필요\n",
        "    labels = torch.FloatTensor(labels)      # Regression으로 풀기 때문에 label은 float type이여야 한다.\n",
        "    return sents, lengths, labels"
      ],
      "metadata": {
        "id": "mYOqFW-RS8OJ"
      },
      "execution_count": 29,
      "outputs": []
    },
    {
      "cell_type": "code",
      "source": [
        "train_loader = DataLoader(train_set,        # Dataset 클래스 형태의 데이터를 입력으로 넣어준다\n",
        "                          batch_size=batch_size,\n",
        "                          shuffle=True,\n",
        "                          collate_fn=char_collate_fn,\n",
        "                          drop_last=True,   # 마지막 배치가 batch_size보다 작을 때 쓰지 않고 버린다\n",
        "                          pin_memory=True)  # CPU에 있는 데이터를 GPU로 빠른 transfer를 가능하게 한다\n",
        "test_loader = DataLoader(test_set,\n",
        "                         batch_size=1,\n",
        "                         shuffle=False,\n",
        "                         collate_fn=char_collate_fn,\n",
        "                         drop_last=False)"
      ],
      "metadata": {
        "id": "x2mrTxtoTqry"
      },
      "execution_count": 30,
      "outputs": []
    },
    {
      "cell_type": "code",
      "source": [
        "# 학습\n",
        "char_model.train()\n",
        "char_model = char_model.to(device)\n",
        "optimizer = torch.optim.Adam(char_model.parameters(), lr=learning_rate)\n",
        "loss_function = nn.BCEWithLogitsLoss(reduction=\"mean\")  # 배치 내 샘플들의 loss를 평균화 한다\n",
        "\n",
        "step = 0\n",
        "steps = []\n",
        "loss_list = []\n",
        "\n",
        "for e in range(num_epochs):\n",
        "    running_loss = 0.0\n",
        "    for i, batch in enumerate(train_loader):\n",
        "        sents, lengths, labels = batch\n",
        "        sents, lengths, labels = sents.to(device), lengths.to(device), labels.to(device)\n",
        "        out = char_model(sents, lengths)\n",
        "\n",
        "        optimizer.zero_grad()\n",
        "        # out = (batch_size, 1)\n",
        "        loss = loss_function(out.squeeze(-1), labels)   # out과 labels의 shape을 동일하게 맞춘다\n",
        "        loss.backward()\n",
        "        optimizer.step()\n",
        "\n",
        "        running_loss += loss.item()\n",
        "        step += 1\n",
        "        steps.append(step)\n",
        "        loss_list.append(loss.item())\n",
        "\n",
        "        if step % 500 == 0 and i != 0:\n",
        "            print(f'Epoch: {e+1:2d}| Step {step:5d}\\t| Loss: {running_loss/(i):.3f}')\n",
        "\n",
        "plt.plot(steps, loss_list)"
      ],
      "metadata": {
        "id": "AGVFpbvQ7_UB",
        "colab": {
          "base_uri": "https://localhost:8080/",
          "height": 482
        },
        "outputId": "abe731f3-305f-44c6-a2c3-b75df2dda5d3"
      },
      "execution_count": 31,
      "outputs": [
        {
          "output_type": "stream",
          "name": "stdout",
          "text": [
            "Epoch:  1| Step   500\t| Loss: 0.613\n",
            "Epoch:  2| Step  1000\t| Loss: 0.609\n"
          ]
        },
        {
          "output_type": "execute_result",
          "data": {
            "text/plain": [
              "[<matplotlib.lines.Line2D at 0x7f904c05c1c0>]"
            ]
          },
          "metadata": {},
          "execution_count": 31
        },
        {
          "output_type": "display_data",
          "data": {
            "text/plain": [
              "<Figure size 640x480 with 1 Axes>"
            ],
            "image/png": "[encoded data removed]"
          },
          "metadata": {}
        }
      ]
    },
    {
      "cell_type": "code",
      "source": [
        "# 추론\n",
        "char_model.eval()\n",
        "acc = []\n",
        "\n",
        "for i, batch in enumerate(test_loader):\n",
        "    sents, lengths, labels = batch\n",
        "    sents, lengths, labels = sents.to(device), lengths.to(device), labels.to(device)\n",
        "    out = char_model(sents, lengths)\n",
        "\n",
        "    probs = torch.sigmoid(out.squeeze(-1))      # sigmoid로 logit을 0과 1사이 값으로 설정\n",
        "    preds = torch.zeros_like(probs).to(probs)\n",
        "    preds[probs > 0.5] = 1.                     # 0.5보다 크면 1로 예측\n",
        "    num_correct = ((preds == 1) * (labels == 1)).sum()\n",
        "    acc.append(num_correct / len(labels))\n",
        "\n",
        "print(f\"Average accuracy: {sum(acc) / len(acc)}\")"
      ],
      "metadata": {
        "colab": {
          "base_uri": "https://localhost:8080/"
        },
        "id": "_nWncjwPhSCA",
        "outputId": "97d0f228-5a55-4f77-c86a-9c9b52464fc7"
      },
      "execution_count": 32,
      "outputs": [
        {
          "output_type": "stream",
          "name": "stdout",
          "text": [
            "Average accuracy: 0.0\n"
          ]
        }
      ]
    },
    {
      "cell_type": "markdown",
      "source": [
        "##2. Word-based tokenization 구현하기"
      ],
      "metadata": {
        "id": "lWSFINrqQmhx"
      }
    },
    {
      "cell_type": "markdown",
      "source": [
        "```\n",
        "💡 Word tokenizer의 장점은 서로 다른 단어에 다른 토큰을 사용한다는 것이다.\n",
        "\n",
        "앞서 사용했던 character tokenizer은 \"bank\"와 \"apple\"의 \"a\"가 같은 토큰 임베딩을 활용했다.\n",
        "\n",
        "하지만 word tokenizer는 \"bank\"와 \"apple\"이 각 하나의 토큰이 됨으로써,\n",
        "명확히 다른 의미를 모델이 배울 수 있게 된다.\n",
        "\n",
        "이 또한 문제점이 있는데,\n",
        "모델이 보지 못한 단어에 대한 out-of-vocabulary (OOV) 문제가 있는 것과,\n",
        "word embedding의 크기가 압도적으로 커진다는 것이다.\n",
        "```"
      ],
      "metadata": {
        "id": "190rME9Ok6s5"
      }
    },
    {
      "cell_type": "markdown",
      "source": [
        "###2-1. Word Tokenizer 만들기"
      ],
      "metadata": {
        "id": "wQ2xT1K_uVxO"
      }
    },
    {
      "cell_type": "code",
      "source": [
        "class WordTokenizer(object):\n",
        "\n",
        "    PAD_TOKEN = \"<pad>\"\n",
        "    UNK_TOKEN = \"<unk>\"\n",
        "\n",
        "    def __init__(self):\n",
        "        self.word2idx = {self.PAD_TOKEN: 0, self.UNK_TOKEN: 1}\n",
        "        self.idx2word = [self.PAD_TOKEN, self.UNK_TOKEN]\n",
        "\n",
        "        self.__build_vocab()\n",
        "\n",
        "    def tokenize(self, text):\n",
        "        # split() 함수를 통해 텍스트를 단어 단위(공백 기준)로 쪼갠다.\n",
        "        return [word if word in self.word2idx else self.UNK_TOKEN for word in text.split()]\n",
        "\n",
        "    def encode(self, text):\n",
        "        return [self.word2idx[word] if word in self.word2idx else self.word2idx[self.UNK_TOKEN] for word in text.split()]\n",
        "\n",
        "    def __add_word(self, word):\n",
        "        if word not in self.word2idx:\n",
        "            self.idx2word.append(word)\n",
        "            self.word2idx[word] = len(self.idx2word) - 1\n",
        "        return self.word2idx[word]\n",
        "\n",
        "    def __build_vocab(self):\n",
        "        for _, _, sent in train_iter:\n",
        "            for word in sent.split():\n",
        "                self.__add_word(word)\n",
        "\n",
        "    def __len__(self):\n",
        "        return len(self.idx2word)"
      ],
      "metadata": {
        "id": "Orij84aYQq62"
      },
      "execution_count": 33,
      "outputs": []
    },
    {
      "cell_type": "code",
      "source": [
        "word_tokenizer = WordTokenizer()"
      ],
      "metadata": {
        "id": "ZAPNwZtasGY7"
      },
      "execution_count": 34,
      "outputs": []
    },
    {
      "cell_type": "markdown",
      "source": [
        "> 문자 단위 토크나이저와 단어장 크기 비교를 했을 때, 단어 단위 토크나이저의 단어장 크기가 압도적으로 큰 것을 확인할 수 있다."
      ],
      "metadata": {
        "id": "8z9-DzoWjdDs"
      }
    },
    {
      "cell_type": "code",
      "source": [
        "print(f\"Character vocabulary 크기: {len(char_tokenizer)}\")\n",
        "print(f\"Word vocabulary 크기: {len(word_tokenizer)}\")"
      ],
      "metadata": {
        "colab": {
          "base_uri": "https://localhost:8080/"
        },
        "id": "ZnQeHf0hsNfh",
        "outputId": "6a759d8e-6ec8-4c76-f32f-3bcb3b8d0c11"
      },
      "execution_count": 35,
      "outputs": [
        {
          "output_type": "stream",
          "name": "stdout",
          "text": [
            "Character vocabulary 크기: 86\n",
            "Word vocabulary 크기: 8258\n"
          ]
        }
      ]
    },
    {
      "cell_type": "code",
      "source": [
        "print(f\"Word vocabulary: {word_tokenizer.idx2word[:10]}\")"
      ],
      "metadata": {
        "colab": {
          "base_uri": "https://localhost:8080/"
        },
        "id": "8PJ4cyiRsVPl",
        "outputId": "e005284c-2dce-4a28-dd7e-915bb0bfdce5"
      },
      "execution_count": 36,
      "outputs": [
        {
          "output_type": "stream",
          "name": "stdout",
          "text": [
            "Word vocabulary: ['<pad>', '<unk>', 'Our', 'friends', \"won't\", 'buy', 'this', 'analysis,', 'let', 'alone']\n"
          ]
        }
      ]
    },
    {
      "cell_type": "markdown",
      "source": [
        "> 공백 기준으로 단어를 쪼개기 때문에, \"배고파.\"가 하나의 unknown 토큰으로 대체된다."
      ],
      "metadata": {
        "id": "4FGpH0hnjosw"
      }
    },
    {
      "cell_type": "code",
      "source": [
        "word_tokenizer.tokenize(\"I am 배고파.\")"
      ],
      "metadata": {
        "colab": {
          "base_uri": "https://localhost:8080/"
        },
        "id": "hdjIL6Vutt2W",
        "outputId": "04183e6e-daab-4ea4-f141-248f6a0ea698"
      },
      "execution_count": 37,
      "outputs": [
        {
          "output_type": "execute_result",
          "data": {
            "text/plain": [
              "['I', 'am', '<unk>']"
            ]
          },
          "metadata": {},
          "execution_count": 37
        }
      ]
    },
    {
      "cell_type": "code",
      "source": [
        "word_tokenizer.encode(\"I am 배고파.\")"
      ],
      "metadata": {
        "colab": {
          "base_uri": "https://localhost:8080/"
        },
        "id": "307ZTWmauNdi",
        "outputId": "b7579f11-9d3e-4bae-8524-a56afcae7e02"
      },
      "execution_count": 38,
      "outputs": [
        {
          "output_type": "execute_result",
          "data": {
            "text/plain": [
              "[292, 474, 1]"
            ]
          },
          "metadata": {},
          "execution_count": 38
        }
      ]
    },
    {
      "cell_type": "code",
      "source": [
        "class WordDataset(Dataset):\n",
        "    def __init__(self, split):\n",
        "        self.x = []\n",
        "        self.y = []\n",
        "\n",
        "        if split == \"train\":\n",
        "            for _, label, sent in train_iter:\n",
        "                self.x.append(word_tokenizer.encode(sent))\n",
        "                self.y.append(label)\n",
        "        elif split == \"test\":\n",
        "            for _, label, sent in test_iter:\n",
        "                self.x.append(word_tokenizer.encode(sent))\n",
        "                self.y.append(label)\n",
        "\n",
        "    def __len__(self):\n",
        "        return len(self.x)\n",
        "\n",
        "    def __getitem__(self, idx):\n",
        "        return self.x[idx], self.y[idx]"
      ],
      "metadata": {
        "id": "qFPAceyoufMX"
      },
      "execution_count": 39,
      "outputs": []
    },
    {
      "cell_type": "code",
      "source": [
        "train_set = WordDataset(split=\"train\")\n",
        "test_set = WordDataset(split=\"test\")"
      ],
      "metadata": {
        "id": "0XQHtWyJu28B"
      },
      "execution_count": 40,
      "outputs": []
    },
    {
      "cell_type": "markdown",
      "source": [
        "> 💡 Word로 토큰화를 했을 때 단어장의 크기는 커졌지만 각 샘플의 길이는 굉장히 짧아졌다. 이 뜻은 GPU 메모리를 더 많이 쓸 수 있다는 뜻도 된다."
      ],
      "metadata": {
        "id": "SJQN18kV1fxL"
      }
    },
    {
      "cell_type": "code",
      "source": [
        "print(train_set[0])"
      ],
      "metadata": {
        "colab": {
          "base_uri": "https://localhost:8080/"
        },
        "id": "c-V5zHRi1gGd",
        "outputId": "003563de-07f7-401a-c8e3-6028bad4f857"
      },
      "execution_count": 41,
      "outputs": [
        {
          "output_type": "stream",
          "name": "stdout",
          "text": [
            "([2, 3, 4, 5, 6, 7, 8, 9, 10, 11, 12, 13, 14], 1)\n"
          ]
        }
      ]
    },
    {
      "cell_type": "markdown",
      "source": [
        "###2-2. RNN 모델"
      ],
      "metadata": {
        "id": "5B-HH6ZluaoZ"
      }
    },
    {
      "cell_type": "markdown",
      "source": [
        "> 💡 위에서 정의한 RNNModel 함수를 그대로 쓸 수 있다."
      ],
      "metadata": {
        "id": "vUL9iYYn2oIz"
      }
    },
    {
      "cell_type": "code",
      "source": [
        "word_model = RNNModel(vocab_size=len(word_tokenizer),   # vocab_size, 즉 임베딩 층의 크기만 달라진다.\n",
        "                      input_size=256,\n",
        "                      hidden_size=256,\n",
        "                      output_size=1,\n",
        "                      num_layers=2)\n",
        "\n",
        "print(word_model)"
      ],
      "metadata": {
        "colab": {
          "base_uri": "https://localhost:8080/"
        },
        "id": "EOv7vEtOxUFa",
        "outputId": "14d69f62-339e-4429-c76e-a2a9e041358f"
      },
      "execution_count": 42,
      "outputs": [
        {
          "output_type": "stream",
          "name": "stdout",
          "text": [
            "RNNModel(\n",
            "  (dropout): Dropout(p=0.1, inplace=False)\n",
            "  (embed): Embedding(8258, 256)\n",
            "  (rnn): LSTM(256, 256, num_layers=2, batch_first=True, bidirectional=True)\n",
            "  (fc): Linear(in_features=512, out_features=1, bias=True)\n",
            ")\n"
          ]
        }
      ]
    },
    {
      "cell_type": "markdown",
      "source": [
        "> 각 단어마다 벡터가 존재하게 되기 때문에 임베딩 층 파라미터 수가 압도적으로 높아진 것을 확인할 수 있다."
      ],
      "metadata": {
        "id": "oNVQxb-ekc1b"
      }
    },
    {
      "cell_type": "code",
      "source": [
        "print(f\"Char embedding parameter 개수: {count_parameters(char_model.embed)}\")\n",
        "print(f\"Word embedding parameter 개수: {count_parameters(word_model.embed)}\")"
      ],
      "metadata": {
        "colab": {
          "base_uri": "https://localhost:8080/"
        },
        "id": "YjD5ljpJ10aV",
        "outputId": "8b5c9d92-270b-479a-d75b-f8dc4c4f212b"
      },
      "execution_count": 43,
      "outputs": [
        {
          "output_type": "stream",
          "name": "stdout",
          "text": [
            "Char embedding parameter 개수: 22016\n",
            "Word embedding parameter 개수: 2114048\n"
          ]
        }
      ]
    },
    {
      "cell_type": "markdown",
      "source": [
        "###2-3. Word-based tokenizer 성능 평가"
      ],
      "metadata": {
        "id": "woTDlGnf2gp9"
      }
    },
    {
      "cell_type": "code",
      "source": [
        "batch_size = 16\n",
        "learning_rate = 1e-3\n",
        "num_epochs = 2\n",
        "device = torch.device('cuda') if torch.cuda.is_available() else torch.device('cpu')\n",
        "print(f\"Device: {device}\")"
      ],
      "metadata": {
        "colab": {
          "base_uri": "https://localhost:8080/"
        },
        "id": "Vx0694dc2a5x",
        "outputId": "8f3d6938-bf60-41d5-c950-b3850ef5632e"
      },
      "execution_count": 44,
      "outputs": [
        {
          "output_type": "stream",
          "name": "stdout",
          "text": [
            "Device: cuda\n"
          ]
        }
      ]
    },
    {
      "cell_type": "code",
      "source": [
        "def word_collate_fn(batch):\n",
        "    PAD = word_tokenizer.word2idx[word_tokenizer.PAD_TOKEN]\n",
        "\n",
        "    lengths = [len(b[0]) for b in batch]\n",
        "    max_len = max(lengths)\n",
        "    sents = [b[0] + [PAD] * (max_len - len(b[0])) for b in batch]\n",
        "    labels = [b[1] for b in batch]\n",
        "\n",
        "    sents = torch.LongTensor(sents)\n",
        "    lengths = torch.LongTensor(lengths)\n",
        "    labels = torch.FloatTensor(labels)\n",
        "    return sents, lengths, labels"
      ],
      "metadata": {
        "id": "Zeorj0Ob25cr"
      },
      "execution_count": 45,
      "outputs": []
    },
    {
      "cell_type": "code",
      "source": [
        "train_loader = DataLoader(train_set,\n",
        "                          batch_size=batch_size,\n",
        "                          shuffle=True,\n",
        "                          collate_fn=word_collate_fn,\n",
        "                          drop_last=True,\n",
        "                          pin_memory=True)\n",
        "test_loader = DataLoader(test_set,\n",
        "                         batch_size=1,\n",
        "                         shuffle=False,\n",
        "                         collate_fn=word_collate_fn,\n",
        "                         drop_last=False)"
      ],
      "metadata": {
        "id": "tdNVjk0Q3Hoc"
      },
      "execution_count": 46,
      "outputs": []
    },
    {
      "cell_type": "code",
      "source": [
        "# 학습\n",
        "word_model.train()\n",
        "word_model = word_model.to(device)\n",
        "optimizer = torch.optim.Adam(word_model.parameters(), lr=learning_rate)\n",
        "loss_function = nn.BCEWithLogitsLoss(reduction=\"mean\")\n",
        "\n",
        "step = 0\n",
        "steps = []\n",
        "loss_list = []\n",
        "\n",
        "for e in range(num_epochs):\n",
        "    running_loss = 0.0\n",
        "    for i, batch in enumerate(train_loader):\n",
        "        sents, lengths, labels = batch\n",
        "        sents, lengths, labels = sents.to(device), lengths.to(device), labels.to(device)\n",
        "        out = word_model(sents, lengths)\n",
        "\n",
        "        optimizer.zero_grad()\n",
        "        loss = loss_function(out.squeeze(-1), labels)\n",
        "        loss.backward()\n",
        "        optimizer.step()\n",
        "\n",
        "        running_loss += loss.item()\n",
        "        step += 1\n",
        "        steps.append(step)\n",
        "        loss_list.append(loss.item())\n",
        "\n",
        "        if step % 500 == 0 and i != 0:\n",
        "            print(f'Epoch: {e+1:2d}| Step {step:5d}\\t| Loss: {running_loss/(i):.3f}')\n",
        "\n",
        "plt.plot(steps, loss_list)"
      ],
      "metadata": {
        "colab": {
          "base_uri": "https://localhost:8080/",
          "height": 482
        },
        "id": "ubFnTEgA3LlK",
        "outputId": "98392405-ff6d-4134-f510-2e7833f981bc"
      },
      "execution_count": 47,
      "outputs": [
        {
          "output_type": "stream",
          "name": "stdout",
          "text": [
            "Epoch:  1| Step   500\t| Loss: 0.610\n",
            "Epoch:  2| Step  1000\t| Loss: 0.559\n"
          ]
        },
        {
          "output_type": "execute_result",
          "data": {
            "text/plain": [
              "[<matplotlib.lines.Line2D at 0x7f9054b01f30>]"
            ]
          },
          "metadata": {},
          "execution_count": 47
        },
        {
          "output_type": "display_data",
          "data": {
            "text/plain": [
              "<Figure size 640x480 with 1 Axes>"
            ],
            "image/png": "[encoded data removed]"
          },
          "metadata": {}
        }
      ]
    },
    {
      "cell_type": "code",
      "source": [
        "# 추론\n",
        "word_model.eval()\n",
        "acc = []\n",
        "\n",
        "for i, batch in enumerate(test_loader):\n",
        "    sents, lengths, labels = batch\n",
        "    sents, lengths, labels = sents.to(device), lengths.to(device), labels.to(device)\n",
        "    out = word_model(sents, lengths)\n",
        "\n",
        "    probs = torch.sigmoid(out.squeeze(-1))\n",
        "    preds = torch.zeros_like(probs).to(probs)\n",
        "    preds[probs > 0.5] = 1.\n",
        "    num_correct = ((preds == 1) * (labels == 1)).sum()\n",
        "    acc.append(num_correct / len(labels))\n",
        "\n",
        "print(f\"Average accuracy: {sum(acc) / len(acc)}\")"
      ],
      "metadata": {
        "colab": {
          "base_uri": "https://localhost:8080/"
        },
        "id": "VNV5hm9n3iBZ",
        "outputId": "707dd03e-c2b1-4c1e-f2c6-d9fe72144af1"
      },
      "execution_count": 48,
      "outputs": [
        {
          "output_type": "stream",
          "name": "stdout",
          "text": [
            "Average accuracy: 0.0\n"
          ]
        }
      ]
    },
    {
      "cell_type": "markdown",
      "source": [
        "##3. Subword-based tokenization (BertTokenizer) 사용해보기"
      ],
      "metadata": {
        "id": "bp6ZqJeBQrMo"
      }
    },
    {
      "cell_type": "markdown",
      "source": [
        "```\n",
        "Subword tokenization의 장점은 out-of-vocabulary (OOV) 문제에서 상대적으로 자유롭다는 것이다.\n",
        "\n",
        "일반적으로 subword들은 최소 철자 단위에서 하나씩 더 긴 subword를 추가하는 방식으로 만들어진다.\n",
        "\n",
        "예를 들어, 영어의 경우 a~z의 알파벳부터 시작해서 두글자, 세글자, 네글자 subword 등으로 확장해나가며\n",
        "subword를 추가해 단어를 구성하고 이를 바탕으로 subword tokenization을 수행하기 때문에 다른 언어를 tokenization하지 않는다면 OOV 문제에서 자유롭다고 볼 수 있다.\n",
        "\n",
        "Subword tokenizer를 구현하기 위해서는 word를 어떻게 쪼갤지에 대한 다양한 알고리즘이 존재한다.\n",
        "대표적으로 byte-pair encoding (BPE), Wordpiece, Sentencepiece 등이 있다.\n",
        "이런 알고리즘들을 본 실습에서 직접 구현하기에는 다소 복잡하기 때문에 BERT 모델에서 사전 학습된 Wordpiece 기반 토크나이저를 사용해보고자 한다.\n",
        "\n",
        "해당 subword tokenizer는 transformers 라이브러리를 이용해 쉽게 불러올 수 있다.\n",
        "```\n",
        "참고: [Huggingface: subword tokenization](https://huggingface.co/transformers/tokenizer_summary.html#subword-tokenization)"
      ],
      "metadata": {
        "id": "5_wrD9w_TD_4"
      }
    },
    {
      "cell_type": "markdown",
      "source": [
        "###3-1. BertTokenizer로 Subword Tokenizer 만들기"
      ],
      "metadata": {
        "id": "o3HwSX55BPg-"
      }
    },
    {
      "cell_type": "code",
      "source": [
        "bert_tokenizer = BertTokenizer.from_pretrained(\"bert-base-cased\")\n",
        "print(bert_tokenizer)"
      ],
      "metadata": {
        "id": "lNYsJ0FUQres",
        "colab": {
          "base_uri": "https://localhost:8080/",
          "height": 321,
          "referenced_widgets": [
            "45333f877ead4638b0bfa97608fd9637",
            "a7ef910ef27e4bf086ca7c1b897679f8",
            "ff513fef7a2747878fb64d773ecc58b9",
            "451fd9847d5e47b5aec3930d5b2d7d50",
            "7515ddc180bb487285942f7c2f6fa369",
            "701818403a8b40e1bdf981ef2ee0b94f",
            "f4295913a14f4dd0a44ad7d535674a41",
            "02e9dbbca354411fb4a7313c1dceb78c",
            "8396cb47e7714062830a4448e5815d6b",
            "0da56f5526ec4fabaf2c57841b4dbc8c",
            "35578ab0c2fb429f8d79d7beda9a9412",
            "c60cf6e3e858472ea78b867775cad1e9",
            "14c95578c785458398a38d91bb192bfb",
            "8474e551472b4974a4a7aa8f513b9b77",
            "35beb174bff848a4903df17e86a58da8",
            "101dc495db6f4753a3f1de3a6be5c6ca",
            "af7a4ee4fc374a88b442e4d9659b803b",
            "ddc315f6aa2e419bb683c30b117dbdcd",
            "4547f3fc99d84a0894e8ba4bedd50532",
            "8bfce94afb324a038a0a99eb3daa0021",
            "03c8f1acdeff4260a3421771576032a0",
            "913d7abc4d434afbac8aa22c4c51e6dd",
            "0937b492d8274e5da6e0fae26fc18fe8",
            "3dce058506d54fec8d51cef1fbad4e34",
            "6d7d5f4861d0498f9f2685201b94600c",
            "4b2c6951a13c4183a7e225965198ea0e",
            "a16a82183c7547c1a5eae7abb4578367",
            "ce93bcb0649a465b8a22c4220a4e9e41",
            "c3a44ead02dc4a3c86ee3ba245715a7a",
            "583c3fdefbfc4f858b5d74370dbba6ba",
            "91af002611c74809a52fe81852f0fd0c",
            "2ba71bafc83e44b2beee02ed1fd510ec",
            "3f4d4076990c451d90b044d5f7030bc0",
            "14784d5b6dd54a29acddb668682eff3c",
            "e3dfd24ad8da476c92317e74322c9fab",
            "20c879eacdb94bbd9dc74c99aee30449",
            "12a14d102aea4bd7a24c4152712a8edf",
            "e6c6ea5ee7cb47ea892abd0b7ffaf2c1",
            "2555c1e6a3e1450c801d4e48f4e74d2d",
            "b590b12a62a2442e9a3af1c8293bb376",
            "5641cffa6a604bb580e9c6a9e4e89db8",
            "91a9aa60a0b34861a91214cd6f56d764",
            "df5147ebd51345f4979f827e1f0cba79",
            "0e02ebb1c67a4a5a8a316a78e0c0c630"
          ]
        },
        "outputId": "5ef0b4f3-ae52-4614-f37c-88b262c41c76"
      },
      "execution_count": 49,
      "outputs": [
        {
          "output_type": "display_data",
          "data": {
            "text/plain": [
              "tokenizer_config.json:   0%|          | 0.00/49.0 [00:00<?, ?B/s]"
            ],
            "application/vnd.jupyter.widget-view+json": {
              "version_major": 2,
              "version_minor": 0,
              "model_id": "45333f877ead4638b0bfa97608fd9637"
            }
          },
          "metadata": {}
        },
        {
          "output_type": "display_data",
          "data": {
            "text/plain": [
              "vocab.txt:   0%|          | 0.00/213k [00:00<?, ?B/s]"
            ],
            "application/vnd.jupyter.widget-view+json": {
              "version_major": 2,
              "version_minor": 0,
              "model_id": "c60cf6e3e858472ea78b867775cad1e9"
            }
          },
          "metadata": {}
        },
        {
          "output_type": "display_data",
          "data": {
            "text/plain": [
              "tokenizer.json:   0%|          | 0.00/436k [00:00<?, ?B/s]"
            ],
            "application/vnd.jupyter.widget-view+json": {
              "version_major": 2,
              "version_minor": 0,
              "model_id": "0937b492d8274e5da6e0fae26fc18fe8"
            }
          },
          "metadata": {}
        },
        {
          "output_type": "stream",
          "name": "stderr",
          "text": [
            "/usr/local/lib/python3.10/dist-packages/huggingface_hub/file_download.py:1132: FutureWarning: `resume_download` is deprecated and will be removed in version 1.0.0. Downloads always resume when possible. If you want to force a new download, use `force_download=True`.\n",
            "  warnings.warn(\n"
          ]
        },
        {
          "output_type": "display_data",
          "data": {
            "text/plain": [
              "config.json:   0%|          | 0.00/570 [00:00<?, ?B/s]"
            ],
            "application/vnd.jupyter.widget-view+json": {
              "version_major": 2,
              "version_minor": 0,
              "model_id": "14784d5b6dd54a29acddb668682eff3c"
            }
          },
          "metadata": {}
        },
        {
          "output_type": "stream",
          "name": "stdout",
          "text": [
            "BertTokenizer(name_or_path='bert-base-cased', vocab_size=28996, model_max_length=512, is_fast=False, padding_side='right', truncation_side='right', special_tokens={'unk_token': '[UNK]', 'sep_token': '[SEP]', 'pad_token': '[PAD]', 'cls_token': '[CLS]', 'mask_token': '[MASK]'}, clean_up_tokenization_spaces=True),  added_tokens_decoder={\n",
            "\t0: AddedToken(\"[PAD]\", rstrip=False, lstrip=False, single_word=False, normalized=False, special=True),\n",
            "\t100: AddedToken(\"[UNK]\", rstrip=False, lstrip=False, single_word=False, normalized=False, special=True),\n",
            "\t101: AddedToken(\"[CLS]\", rstrip=False, lstrip=False, single_word=False, normalized=False, special=True),\n",
            "\t102: AddedToken(\"[SEP]\", rstrip=False, lstrip=False, single_word=False, normalized=False, special=True),\n",
            "\t103: AddedToken(\"[MASK]\", rstrip=False, lstrip=False, single_word=False, normalized=False, special=True),\n",
            "}\n"
          ]
        }
      ]
    },
    {
      "cell_type": "code",
      "source": [
        "# subword tokenization 예시\n",
        "print(bert_tokenizer.tokenize('BERT Tokenizer is a subword tokenizer.'))"
      ],
      "metadata": {
        "colab": {
          "base_uri": "https://localhost:8080/"
        },
        "id": "2EAq-Enx6de3",
        "outputId": "69589f4c-b9a2-43d7-8ef2-b586aaad4af2"
      },
      "execution_count": 50,
      "outputs": [
        {
          "output_type": "stream",
          "name": "stdout",
          "text": [
            "['B', '##ER', '##T', 'To', '##ken', '##izer', 'is', 'a', 'sub', '##word', 'token', '##izer', '.']\n"
          ]
        }
      ]
    },
    {
      "cell_type": "markdown",
      "source": [
        "> Huggingface 토크나이저의 `encode()` 함수는 subword token들을 고유번호로 변환해줄뿐더러 앞 뒤로 `[CLS]` classification 토큰과 `[SEP]` separation 토큰이 붙는다. BERT 모델의 입력이 실제로 들어가는데, 이유에 대한 자세한 내용은 BERT 논문을 참고하기 바란다.\n",
        "\n",
        "참고: https://arxiv.org/abs/1810.04805"
      ],
      "metadata": {
        "id": "iKBewbFflzeA"
      }
    },
    {
      "cell_type": "code",
      "source": [
        "print(bert_tokenizer.encode('BERT Tokenizer is a subword tokenizer.'))"
      ],
      "metadata": {
        "colab": {
          "base_uri": "https://localhost:8080/"
        },
        "id": "9ooh1kPo8HJk",
        "outputId": "d1613921-65ec-4674-d365-7a7754b650d6"
      },
      "execution_count": 51,
      "outputs": [
        {
          "output_type": "stream",
          "name": "stdout",
          "text": [
            "[101, 139, 9637, 1942, 1706, 6378, 17260, 1110, 170, 4841, 12565, 22559, 17260, 119, 102]\n"
          ]
        }
      ]
    },
    {
      "cell_type": "code",
      "source": [
        "print(bert_tokenizer.convert_ids_to_tokens([101, 139, 9637, 1942, 1706, 6378, 17260, 1110, 170, 4841, 12565, 22559, 17260, 119, 102]))"
      ],
      "metadata": {
        "colab": {
          "base_uri": "https://localhost:8080/"
        },
        "id": "CILzHLk6l4ZE",
        "outputId": "a47091c6-4938-4b75-adc9-ed9bdfa20cc2"
      },
      "execution_count": 52,
      "outputs": [
        {
          "output_type": "stream",
          "name": "stdout",
          "text": [
            "['[CLS]', 'B', '##ER', '##T', 'To', '##ken', '##izer', 'is', 'a', 'sub', '##word', 'token', '##izer', '.', '[SEP]']\n"
          ]
        }
      ]
    },
    {
      "cell_type": "code",
      "source": [
        "print(bert_tokenizer.decode([101, 139, 9637, 1942, 1706, 6378, 17260, 1110, 170, 4841, 12565, 22559, 17260, 119, 102]))"
      ],
      "metadata": {
        "colab": {
          "base_uri": "https://localhost:8080/"
        },
        "id": "gV9e3U3DovVh",
        "outputId": "54a0ea4b-a93e-4140-b07b-bcad0094e59b"
      },
      "execution_count": 53,
      "outputs": [
        {
          "output_type": "stream",
          "name": "stdout",
          "text": [
            "[CLS] BERT Tokenizer is a subword tokenizer. [SEP]\n"
          ]
        }
      ]
    },
    {
      "cell_type": "markdown",
      "source": [
        "> 토크나이저의 특수 토큰들은 다음과 같이 불러올 수 있다."
      ],
      "metadata": {
        "id": "w5nfqO7Go0G0"
      }
    },
    {
      "cell_type": "code",
      "source": [
        "print(bert_tokenizer.cls_token)\n",
        "print(bert_tokenizer.unk_token)\n",
        "print(bert_tokenizer.pad_token)\n",
        "print(bert_tokenizer.sep_token)\n",
        "print(bert_tokenizer.mask_token)"
      ],
      "metadata": {
        "colab": {
          "base_uri": "https://localhost:8080/"
        },
        "id": "6hOP8JM98yj8",
        "outputId": "32523ad0-d9fa-4ffd-ee51-01fa7fa6c2fd"
      },
      "execution_count": 54,
      "outputs": [
        {
          "output_type": "stream",
          "name": "stdout",
          "text": [
            "[CLS]\n",
            "[UNK]\n",
            "[PAD]\n",
            "[SEP]\n",
            "[MASK]\n"
          ]
        }
      ]
    },
    {
      "cell_type": "markdown",
      "source": [
        "> 사전 학습된 BERT Tokenizer를 그대로 사용할 수 있지만, 우리가 앞서 구현한 Character Tokenizer과 Word Tokenizer와 공정한 비교를 위해 새로운 Subword Tokenizer 클래스를 정의한다.\n",
        ">\n",
        "> Bert Tokenizer의 토큰들을 사용하되, CoLA 학습 데이터셋에 존재하는 토큰들만 단어장에 추가한다."
      ],
      "metadata": {
        "id": "V8hQlMeJmMCo"
      }
    },
    {
      "cell_type": "code",
      "source": [
        "class SubwordTokenizer(object):\n",
        "\n",
        "    PAD_TOKEN = bert_tokenizer.pad_token\n",
        "    UNK_TOKEN = bert_tokenizer.unk_token\n",
        "    CLS_TOKEN = bert_tokenizer.cls_token\n",
        "    SEP_TOKEN = bert_tokenizer.sep_token\n",
        "    MASK_TOKEN = bert_tokenizer.mask_token\n",
        "\n",
        "    def __init__(self):\n",
        "        self.token2idx = {self.PAD_TOKEN: 0, self.UNK_TOKEN: 1, self.CLS_TOKEN: 2, self.SEP_TOKEN: 3, self.MASK_TOKEN: 4}\n",
        "        self.idx2token = [self.PAD_TOKEN, self.UNK_TOKEN, self.CLS_TOKEN, self.SEP_TOKEN, self.MASK_TOKEN]\n",
        "\n",
        "        self.__build_vocab()\n",
        "\n",
        "    def tokenize(self, text):\n",
        "        tokens = bert_tokenizer.tokenize(text)  # tokenize() 함수를 사용하여 subword 단위로 쪼갠다\n",
        "        return [token if token in self.token2idx else self.UNK_TOKEN for token in tokens]\n",
        "\n",
        "    def encode(self, text):\n",
        "        tokens = bert_tokenizer.tokenize(text)\n",
        "        return [self.token2idx[token] if token in self.token2idx else self.token2idx[self.UNK_TOKEN] for token in tokens]\n",
        "\n",
        "    def __add_token(self, token):\n",
        "        if token not in self.token2idx:\n",
        "            self.idx2token.append(token)\n",
        "            self.token2idx[token] = len(self.idx2token) - 1\n",
        "        return self.token2idx[token]\n",
        "\n",
        "    def __build_vocab(self):\n",
        "        for _, _, sent in train_iter:\n",
        "            tokens = bert_tokenizer.tokenize(sent)\n",
        "            for token in tokens:\n",
        "                self.__add_token(token)\n",
        "\n",
        "    def __len__(self):\n",
        "        return len(self.idx2token)"
      ],
      "metadata": {
        "id": "tt5ShPBd6zp6"
      },
      "execution_count": 55,
      "outputs": []
    },
    {
      "cell_type": "code",
      "source": [
        "subword_tokenizer = SubwordTokenizer()"
      ],
      "metadata": {
        "id": "Jx5jAjnP-BiN"
      },
      "execution_count": 56,
      "outputs": []
    },
    {
      "cell_type": "markdown",
      "source": [
        "> Subword tokenizer의 단어장 크기는 문자 단위보단 크지만 단어 단위보단 작아진 걸 확인할 수 있다."
      ],
      "metadata": {
        "id": "vhUqhdnSpqi9"
      }
    },
    {
      "cell_type": "code",
      "source": [
        "print(f\"Character vocabulary 크기: {len(char_tokenizer)}\")\n",
        "print(f\"Word vocabulary 크기: {len(word_tokenizer)}\")\n",
        "print(f\"Subword vocabulary 크기: {len(subword_tokenizer)}\")"
      ],
      "metadata": {
        "colab": {
          "base_uri": "https://localhost:8080/"
        },
        "id": "EJ8tkPAT-AtF",
        "outputId": "9fe4c09c-7ced-4c6e-8e74-06d3689ee5d7"
      },
      "execution_count": 57,
      "outputs": [
        {
          "output_type": "stream",
          "name": "stdout",
          "text": [
            "Character vocabulary 크기: 86\n",
            "Word vocabulary 크기: 8258\n",
            "Subword vocabulary 크기: 5958\n"
          ]
        }
      ]
    },
    {
      "cell_type": "markdown",
      "source": [
        "> \"generalization\"의 접미사 \"##ization\"은 추가로 쪼개지면서, 다른 곳에 재사용이 가능하다."
      ],
      "metadata": {
        "id": "Im7iMME7p5px"
      }
    },
    {
      "cell_type": "code",
      "source": [
        "print(f\"Subword vocabulary: {subword_tokenizer.idx2token[:15]}\")"
      ],
      "metadata": {
        "colab": {
          "base_uri": "https://localhost:8080/"
        },
        "id": "qrGghbcn-LHy",
        "outputId": "f061ba44-3681-4501-e550-e82dbafbb1b1"
      },
      "execution_count": 58,
      "outputs": [
        {
          "output_type": "stream",
          "name": "stdout",
          "text": [
            "Subword vocabulary: ['[PAD]', '[UNK]', '[CLS]', '[SEP]', '[MASK]', 'Our', 'friends', 'won', \"'\", 't', 'buy', 'this', 'analysis', ',', 'let']\n"
          ]
        }
      ]
    },
    {
      "cell_type": "markdown",
      "source": [
        "💡 Subword tokenizer는 OOV 문제를 어느 정도 해결할 수 있다."
      ],
      "metadata": {
        "id": "J3Ez-Nhb_-Et"
      }
    },
    {
      "cell_type": "code",
      "source": [
        "print(\"Word tokenizer output:\", word_tokenizer.tokenize(\"I am supercalifragilisticexpialidocious.\"))\n",
        "print(\"Subword tokenizer output:\", subword_tokenizer.tokenize(\"I am supercalifragilisticexpialidocious.\"))"
      ],
      "metadata": {
        "colab": {
          "base_uri": "https://localhost:8080/"
        },
        "id": "E4pAS4q5-_1F",
        "outputId": "1a8896db-43df-48f6-95ec-8032aa92d104"
      },
      "execution_count": 59,
      "outputs": [
        {
          "output_type": "stream",
          "name": "stdout",
          "text": [
            "Word tokenizer output: ['I', 'am', '<unk>']\n",
            "Subword tokenizer output: ['I', 'am', '[UNK]', '##cal', '##if', '##rag', '[UNK]', '##tic', '[UNK]', '[UNK]', '##lid', '##oc', '[UNK]', '.']\n"
          ]
        }
      ]
    },
    {
      "cell_type": "code",
      "source": [
        "class SubwordDataset(Dataset):\n",
        "    def __init__(self, split):\n",
        "        self.x = []\n",
        "        self.y = []\n",
        "\n",
        "        if split == \"train\":\n",
        "            for _, label, sent in train_iter:\n",
        "                self.x.append(subword_tokenizer.encode(sent))\n",
        "                self.y.append(label)\n",
        "        elif split == \"test\":\n",
        "            for _, label, sent in test_iter:\n",
        "                self.x.append(subword_tokenizer.encode(sent))\n",
        "                self.y.append(label)\n",
        "\n",
        "    def __len__(self):\n",
        "        return len(self.x)\n",
        "\n",
        "    def __getitem__(self, idx):\n",
        "        return self.x[idx], self.y[idx]"
      ],
      "metadata": {
        "id": "3XKOaKRS_jwe"
      },
      "execution_count": 60,
      "outputs": []
    },
    {
      "cell_type": "code",
      "source": [
        "train_set = SubwordDataset(split=\"train\")\n",
        "test_set = SubwordDataset(split=\"test\")"
      ],
      "metadata": {
        "id": "TNRcUFEMAfk9"
      },
      "execution_count": 61,
      "outputs": []
    },
    {
      "cell_type": "markdown",
      "source": [
        "> 데이터 문장 길이가 문자 단위처럼 엄청 길지도 않고 단어 단위처럼 엄청 짧지도 않은 적절한 길이를 가진다."
      ],
      "metadata": {
        "id": "Ijas8dpaqMqB"
      }
    },
    {
      "cell_type": "code",
      "source": [
        "print(train_set[0])"
      ],
      "metadata": {
        "colab": {
          "base_uri": "https://localhost:8080/"
        },
        "id": "wo8M93z3AkiS",
        "outputId": "5f230e4d-dfa5-482e-babe-3f38b58a2513"
      },
      "execution_count": 62,
      "outputs": [
        {
          "output_type": "stream",
          "name": "stdout",
          "text": [
            "([5, 6, 7, 8, 9, 10, 11, 12, 13, 14, 15, 16, 17, 18, 19, 20, 21], 1)\n"
          ]
        }
      ]
    },
    {
      "cell_type": "markdown",
      "source": [
        "###3-2. RNN 모델"
      ],
      "metadata": {
        "id": "DAio_CERBLBr"
      }
    },
    {
      "cell_type": "code",
      "source": [
        "subword_model = RNNModel(vocab_size=len(subword_tokenizer),\n",
        "                         input_size=256,\n",
        "                         hidden_size=256,\n",
        "                         output_size=1,\n",
        "                         num_layers=2)\n",
        "\n",
        "print(subword_model)"
      ],
      "metadata": {
        "colab": {
          "base_uri": "https://localhost:8080/"
        },
        "id": "K7gJCDhGA9sk",
        "outputId": "d4011c3a-26c1-4b96-e0a9-b52e7fa53081"
      },
      "execution_count": 63,
      "outputs": [
        {
          "output_type": "stream",
          "name": "stdout",
          "text": [
            "RNNModel(\n",
            "  (dropout): Dropout(p=0.1, inplace=False)\n",
            "  (embed): Embedding(5958, 256)\n",
            "  (rnn): LSTM(256, 256, num_layers=2, batch_first=True, bidirectional=True)\n",
            "  (fc): Linear(in_features=512, out_features=1, bias=True)\n",
            ")\n"
          ]
        }
      ]
    },
    {
      "cell_type": "markdown",
      "source": [
        "> 임베딩 층의 파라미터 수도 적절한 것을 확인할 수 있다."
      ],
      "metadata": {
        "id": "882oYiApqaax"
      }
    },
    {
      "cell_type": "code",
      "source": [
        "print(f\"Char embedding parameter 개수: {count_parameters(char_model.embed)}\")\n",
        "print(f\"Word embedding parameter 개수: {count_parameters(word_model.embed)}\")\n",
        "print(f\"Subword embedding parameter 개수: {count_parameters(subword_model.embed)}\")"
      ],
      "metadata": {
        "colab": {
          "base_uri": "https://localhost:8080/"
        },
        "id": "kyYzyHuLBFoN",
        "outputId": "906d7f3d-3b1c-46fd-8810-d173c6c9ed79"
      },
      "execution_count": 64,
      "outputs": [
        {
          "output_type": "stream",
          "name": "stdout",
          "text": [
            "Char embedding parameter 개수: 22016\n",
            "Word embedding parameter 개수: 2114048\n",
            "Subword embedding parameter 개수: 1525248\n"
          ]
        }
      ]
    },
    {
      "cell_type": "code",
      "source": [
        "batch_size = 16\n",
        "learning_rate = 1e-3\n",
        "num_epochs = 2\n",
        "device = torch.device('cuda') if torch.cuda.is_available() else torch.device('cpu')\n",
        "print(f\"Device: {device}\")"
      ],
      "metadata": {
        "colab": {
          "base_uri": "https://localhost:8080/"
        },
        "id": "Z0H0KbcbAmpp",
        "outputId": "563b56dd-17c0-4edc-ad82-cfa351d766d8"
      },
      "execution_count": 65,
      "outputs": [
        {
          "output_type": "stream",
          "name": "stdout",
          "text": [
            "Device: cuda\n"
          ]
        }
      ]
    },
    {
      "cell_type": "code",
      "source": [
        "def subword_collate_fn(batch):\n",
        "    PAD = subword_tokenizer.token2idx[subword_tokenizer.PAD_TOKEN]\n",
        "\n",
        "    lengths = [len(b[0]) for b in batch]\n",
        "    max_len = max(lengths)\n",
        "    sents = [b[0] + [PAD] * (max_len - len(b[0])) for b in batch]\n",
        "    labels = [b[1] for b in batch]\n",
        "\n",
        "    sents = torch.LongTensor(sents)\n",
        "    lengths = torch.LongTensor(lengths)\n",
        "    labels = torch.FloatTensor(labels)\n",
        "    return sents, lengths, labels"
      ],
      "metadata": {
        "id": "b8U8Xb-YAqsF"
      },
      "execution_count": 66,
      "outputs": []
    },
    {
      "cell_type": "code",
      "source": [
        "train_loader = DataLoader(train_set,\n",
        "                          batch_size=batch_size,\n",
        "                          shuffle=True,\n",
        "                          collate_fn=subword_collate_fn,\n",
        "                          drop_last=True,\n",
        "                          pin_memory=True)\n",
        "test_loader = DataLoader(test_set,\n",
        "                         batch_size=1,\n",
        "                         shuffle=False,\n",
        "                         collate_fn=subword_collate_fn,\n",
        "                         drop_last=False)"
      ],
      "metadata": {
        "id": "b7fQPsAjAxI-"
      },
      "execution_count": 67,
      "outputs": []
    },
    {
      "cell_type": "code",
      "source": [
        "# 학습\n",
        "subword_model.train()\n",
        "subword_model = subword_model.to(device)\n",
        "optimizer = torch.optim.Adam(subword_model.parameters(), lr=learning_rate)\n",
        "loss_function = nn.BCEWithLogitsLoss(reduction=\"mean\")\n",
        "\n",
        "step = 0\n",
        "steps = []\n",
        "loss_list = []\n",
        "\n",
        "for e in range(num_epochs):\n",
        "    running_loss = 0.0\n",
        "    for i, batch in enumerate(train_loader):\n",
        "        sents, lengths, labels = batch\n",
        "        sents, lengths, labels = sents.to(device), lengths.to(device), labels.to(device)\n",
        "        out = subword_model(sents, lengths)\n",
        "\n",
        "        optimizer.zero_grad()\n",
        "        loss = loss_function(out.squeeze(-1), labels)\n",
        "        loss.backward()\n",
        "        optimizer.step()\n",
        "\n",
        "        running_loss += loss.item()\n",
        "        step += 1\n",
        "        steps.append(step)\n",
        "        loss_list.append(loss.item())\n",
        "\n",
        "        if step % 500 == 0 and i != 0:\n",
        "            print(f'Epoch: {e+1:2d}| Step {step:5d}\\t| Loss: {running_loss/(i):.3f}')\n",
        "\n",
        "plt.plot(steps, loss_list)"
      ],
      "metadata": {
        "colab": {
          "base_uri": "https://localhost:8080/",
          "height": 482
        },
        "id": "GWZkxHuPA0_z",
        "outputId": "a36eba61-5ca2-41b3-f8d7-6f1e66645c24"
      },
      "execution_count": 68,
      "outputs": [
        {
          "output_type": "stream",
          "name": "stdout",
          "text": [
            "Epoch:  1| Step   500\t| Loss: 0.612\n",
            "Epoch:  2| Step  1000\t| Loss: 0.567\n"
          ]
        },
        {
          "output_type": "execute_result",
          "data": {
            "text/plain": [
              "[<matplotlib.lines.Line2D at 0x7f90401ba3e0>]"
            ]
          },
          "metadata": {},
          "execution_count": 68
        },
        {
          "output_type": "display_data",
          "data": {
            "text/plain": [
              "<Figure size 640x480 with 1 Axes>"
            ],
            "image/png": "[encoded data removed]"
          },
          "metadata": {}
        }
      ]
    },
    {
      "cell_type": "code",
      "source": [
        "# 추론\n",
        "subword_model.eval()\n",
        "acc = []\n",
        "\n",
        "for i, batch in enumerate(test_loader):\n",
        "    sents, lengths, labels = batch\n",
        "    sents, lengths, labels = sents.to(device), lengths.to(device), labels.to(device)\n",
        "    out = subword_model(sents, lengths)\n",
        "\n",
        "    probs = torch.sigmoid(out.squeeze(-1))\n",
        "    preds = torch.zeros_like(probs).to(probs)\n",
        "    preds[probs > 0.5] = 1.\n",
        "    num_correct = ((preds == 1) * (labels == 1)).sum()\n",
        "    acc.append(num_correct / len(labels))\n",
        "\n",
        "print(f\"Average accuracy: {sum(acc) / len(acc)}\")"
      ],
      "metadata": {
        "colab": {
          "base_uri": "https://localhost:8080/"
        },
        "id": "E4UexfmrF2sM",
        "outputId": "3e3d672b-7f7b-4627-93b2-4843c804839c"
      },
      "execution_count": 69,
      "outputs": [
        {
          "output_type": "stream",
          "name": "stdout",
          "text": [
            "Average accuracy: 0.0\n"
          ]
        }
      ]
    },
    {
      "cell_type": "code",
      "source": [],
      "metadata": {
        "id": "t59J51-YJVgz"
      },
      "execution_count": 69,
      "outputs": []
    }
  ]
}